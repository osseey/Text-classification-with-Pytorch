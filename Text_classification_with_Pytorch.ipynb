{
  "cells": [
    {
      "cell_type": "markdown",
      "metadata": {
        "id": "JfkpXKBIthcS"
      },
      "source": [
        "# Text classification with Pytorch\n",
        "\n",
        "The goal of this TP is double: an introduction to using Pytorch for treating textual data, and implementing neural classification models that we can apply to the same dataset as before - **here, 20 newsgroup** - and then compare to models implemented in the previous TP. "
      ]
    },
    {
      "cell_type": "code",
      "execution_count": null,
      "metadata": {
        "id": "FH7c_eMyte-D"
      },
      "outputs": [],
      "source": [
        "import torch\n",
        "import torch.nn as nn"
      ]
    },
    {
      "cell_type": "markdown",
      "metadata": {
        "id": "TG1Tv5TLtpjP"
      },
      "source": [
        "### A (very small) introduction to pytorch\n",
        "\n",
        "Pytorch Tensors are very similar to Numpy arrays, with the added benefit of being usable on GPU. For a short tutorial on various methods to create tensors of particular types, see [this link](https://pytorch.org/tutorials/beginner/blitz/tensor_tutorial.html#sphx-glr-beginner-blitz-tensor-tutorial-py).\n",
        "The important things to note are that Tensors can be created empty, from lists, and it is very easy to convert a numpy array into a pytorch tensor, and inversely."
      ]
    },
    {
      "cell_type": "code",
      "execution_count": null,
      "metadata": {
        "id": "Mb3h3-OEtuHz",
        "colab": {
          "base_uri": "https://localhost:8080/"
        },
        "outputId": "5c10991f-462b-45a8-fbff-8d35913e29d2"
      },
      "outputs": [
        {
          "output_type": "stream",
          "name": "stdout",
          "text": [
            "tensor([139954452065392,       136003344,       137989968,             129,\n",
            "        139954452065360])\n",
            "tensor([5])\n"
          ]
        }
      ],
      "source": [
        "a = torch.LongTensor(5)\n",
        "b = torch.LongTensor([5])\n",
        "\n",
        "print(a)\n",
        "print(b)"
      ]
    },
    {
      "cell_type": "code",
      "execution_count": null,
      "metadata": {
        "id": "EohavgcYtv6f",
        "colab": {
          "base_uri": "https://localhost:8080/"
        },
        "outputId": "ca648fa6-40fa-491c-e911-c9bf89011a47"
      },
      "outputs": [
        {
          "output_type": "stream",
          "name": "stdout",
          "text": [
            "tensor([5.])\n"
          ]
        }
      ],
      "source": [
        "a = torch.FloatTensor([2])\n",
        "b = torch.FloatTensor([3])\n",
        "\n",
        "print(a + b)"
      ]
    },
    {
      "cell_type": "markdown",
      "metadata": {
        "id": "AJ7gaHMpt0fV"
      },
      "source": [
        "The main interest in us using Pytorch is the ```autograd``` package. ```torch.Tensor```objects have an attribute ```.requires_grad```; if set as True, it starts to track all operations on it. When you finish your computation, can call ```.backward()``` and all the gradients are computed automatically (and stored in the ```.grad``` attribute).\n",
        "\n",
        "One way to easily cut a tensor from the computational once it is not needed anymore is to use ```.detach()```.\n",
        "More info on automatic differentiation in pytorch on [this link](https://pytorch.org/tutorials/beginner/blitz/autograd_tutorial.html#sphx-glr-beginner-blitz-autograd-tutorial-py).\n"
      ]
    },
    {
      "cell_type": "code",
      "execution_count": null,
      "metadata": {
        "id": "DGHcybvEty-E",
        "colab": {
          "base_uri": "https://localhost:8080/"
        },
        "outputId": "1a9587cc-0dd1-491d-d292-b0e5574c6d1c"
      },
      "outputs": [
        {
          "output_type": "stream",
          "name": "stdout",
          "text": [
            "tensor(2.)\n",
            "tensor(1.)\n",
            "tensor(1.)\n"
          ]
        }
      ],
      "source": [
        "x = torch.tensor(1., requires_grad=True)\n",
        "w = torch.tensor(2., requires_grad=True)\n",
        "b = torch.tensor(3., requires_grad=True)\n",
        "\n",
        "# Build a computational graph.\n",
        "y = w * x + b    # y = 2 * x + 3\n",
        "\n",
        "# Compute gradients.\n",
        "y.backward()\n",
        "\n",
        "# Print out the gradients.\n",
        "print(x.grad)    # x.grad = 2 \n",
        "print(w.grad)    # w.grad = 1 \n",
        "print(b.grad)    # b.grad = 1 "
      ]
    },
    {
      "cell_type": "code",
      "execution_count": null,
      "metadata": {
        "id": "6b2WNPUetzA-",
        "colab": {
          "base_uri": "https://localhost:8080/"
        },
        "outputId": "282cb190-3e61-4cdb-8949-99a306035ac4"
      },
      "outputs": [
        {
          "output_type": "stream",
          "name": "stdout",
          "text": [
            "weight\n",
            "Parameter containing:\n",
            "tensor([[-0.5182,  0.0535,  0.1116],\n",
            "        [-0.2481,  0.2607, -0.2130]], requires_grad=True)\n",
            "bias\n",
            "Parameter containing:\n",
            "tensor([-0.3184,  0.1410], requires_grad=True)\n",
            "Initial loss:  0.6964296102523804\n",
            "dL/dw:  tensor([[-0.3357,  0.0257,  0.0415],\n",
            "        [-0.2455, -0.2640, -0.2093]])\n",
            "dL/db:  tensor([-0.0352,  0.2400])\n"
          ]
        }
      ],
      "source": [
        "x = torch.randn(10, 3)\n",
        "y = torch.randn(10, 2)\n",
        "\n",
        "# Build a fully connected layer.\n",
        "linear = nn.Linear(3, 2)\n",
        "for name, p in linear.named_parameters():\n",
        "    print(name)\n",
        "    print(p)\n",
        "\n",
        "# Build loss function - Mean Square Error\n",
        "criterion = nn.MSELoss()\n",
        "\n",
        "# Forward pass.\n",
        "pred = linear(x)\n",
        "\n",
        "# Compute loss.\n",
        "loss = criterion(pred, y)\n",
        "print('Initial loss: ', loss.item())\n",
        "\n",
        "# Backward pass.\n",
        "loss.backward()\n",
        "\n",
        "# Print out the gradients.\n",
        "print ('dL/dw: ', linear.weight.grad) \n",
        "print ('dL/db: ', linear.bias.grad)"
      ]
    },
    {
      "cell_type": "code",
      "execution_count": null,
      "metadata": {
        "id": "aCZynIQFtzD0",
        "colab": {
          "base_uri": "https://localhost:8080/"
        },
        "outputId": "61463e9d-881b-4260-ab0b-a6977f1adf22"
      },
      "outputs": [
        {
          "output_type": "stream",
          "name": "stdout",
          "text": [
            "Loss after one update:  0.6929665803909302\n"
          ]
        }
      ],
      "source": [
        "# You can perform gradient descent manually, with an in-place update ...\n",
        "linear.weight.data.sub_(0.01 * linear.weight.grad.data)\n",
        "linear.bias.data.sub_(0.01 * linear.bias.grad.data)\n",
        "\n",
        "# Print out the loss after 1-step gradient descent.\n",
        "pred = linear(x)\n",
        "loss = criterion(pred, y)\n",
        "print('Loss after one update: ', loss.item())"
      ]
    },
    {
      "cell_type": "code",
      "execution_count": null,
      "metadata": {
        "id": "RXaI-9Z9tzGt",
        "colab": {
          "base_uri": "https://localhost:8080/"
        },
        "outputId": "ef1fd79b-00c7-408a-90ed-d475226636d1"
      },
      "outputs": [
        {
          "output_type": "stream",
          "name": "stdout",
          "text": [
            "Loss after two updates:  0.6895546913146973\n"
          ]
        }
      ],
      "source": [
        "# Use the optim package to define an Optimizer that will update the weights of the model.\n",
        "optimizer = torch.optim.SGD(linear.parameters(), lr=0.01)\n",
        "\n",
        "# By default, gradients are accumulated in buffers( i.e, not overwritten) whenever .backward()\n",
        "# is called. Before the backward pass, we need to use the optimizer object to zero all of the\n",
        "# gradients.\n",
        "optimizer.zero_grad()\n",
        "loss.backward()\n",
        "\n",
        "# Calling the step function on an Optimizer makes an update to its parameters\n",
        "optimizer.step()\n",
        "\n",
        "# Print out the loss after the second step of gradient descent.\n",
        "pred = linear(x)\n",
        "loss = criterion(pred, y)\n",
        "print('Loss after two updates: ', loss.item())"
      ]
    },
    {
      "cell_type": "markdown",
      "metadata": {
        "id": "xjcyC09ct9Nn"
      },
      "source": [
        "### Tools for data processing \n",
        "\n",
        "```torch.utils.data.Dataset``` is an abstract class representing a dataset. Your custom dataset should inherit ```Dataset``` and override the following methods:\n",
        "- ```__len__``` so that ```len(dataset)``` returns the size of the dataset.\n",
        "- ```__getitem__``` to support the indexing such that ```dataset[i]``` can be used to get the i-th sample\n",
        "\n",
        "Here is a toy example: "
      ]
    },
    {
      "cell_type": "code",
      "execution_count": null,
      "metadata": {
        "id": "OAZi4yvpuAyG"
      },
      "outputs": [],
      "source": [
        "toy_corpus = ['I walked down down the boulevard',\n",
        "              'I walked down the avenue',\n",
        "              'I ran down the boulevard',\n",
        "              'I walk down the city',\n",
        "              'I walk down the the avenue']\n",
        "\n",
        "toy_categories = [0, 0, 1, 0, 0]"
      ]
    },
    {
      "cell_type": "code",
      "execution_count": null,
      "metadata": {
        "id": "I0s6D6VOuCNc"
      },
      "outputs": [],
      "source": [
        "from torch.utils.data import Dataset, DataLoader\n",
        "\n",
        "class CustomDataset(Dataset):\n",
        "    # A pytorch dataset class for holding data for a text classification task.\n",
        "    def __init__(self, data, categories):\n",
        "        # Upon creating the Dataset object, store the data in an attribute\n",
        "        # Split the text data and labels from each other\n",
        "        self.X, self.Y = [], []\n",
        "        for x, y in zip(data, categories):\n",
        "            # We will propably need to preprocess the data - have it done in a separate method\n",
        "            # We do it here because we might need corpus-wide info to do the preprocessing \n",
        "            # For example, cutting all examples to the same length\n",
        "            self.X.append(self.preprocess(x))\n",
        "            self.Y.append(y)\n",
        "                \n",
        "    # Method allowing you to preprocess data                      \n",
        "    def preprocess(self, text):\n",
        "        text_pp = text.lower().strip()\n",
        "        return text_pp\n",
        "    \n",
        "    # Overriding the method __len__ so that len(CustomDatasetName) returns the number of data samples                     \n",
        "    def __len__(self):\n",
        "        return len(self.Y)\n",
        "   \n",
        "    # Overriding the method __getitem__ so that CustomDatasetName[i] returns the i-th sample of the dataset                      \n",
        "    def __getitem__(self, idx):\n",
        "           return self.X[idx], self.Y[idx]"
      ]
    },
    {
      "cell_type": "code",
      "execution_count": null,
      "metadata": {
        "id": "cmjsfRZPuCQc"
      },
      "outputs": [],
      "source": [
        "toy_dataset = CustomDataset(toy_corpus, toy_categories)"
      ]
    },
    {
      "cell_type": "code",
      "execution_count": null,
      "metadata": {
        "id": "pxyTBFp6uGaL",
        "colab": {
          "base_uri": "https://localhost:8080/"
        },
        "outputId": "8a8a7c3b-5a4b-4d91-ccb6-6bdcf439f844"
      },
      "outputs": [
        {
          "output_type": "stream",
          "name": "stdout",
          "text": [
            "5\n",
            "('i walked down down the boulevard', 0)\n",
            "('i walked down the avenue', 0)\n",
            "('i ran down the boulevard', 1)\n",
            "('i walk down the city', 0)\n",
            "('i walk down the the avenue', 0)\n"
          ]
        }
      ],
      "source": [
        "print(len(toy_dataset))\n",
        "for i in range(len(toy_dataset)):\n",
        "    print(toy_dataset[i])"
      ]
    },
    {
      "cell_type": "markdown",
      "metadata": {
        "id": "BdtlHKpJuKwY"
      },
      "source": [
        "```torch.utils.data.DataLoader``` is what we call an iterator, which provides very useful features:\n",
        "- Batching the data\n",
        "- Shuffling the data\n",
        "- Load the data in parallel using multiprocessing workers.\n",
        "and can be created very simply from a ```Dataset```. Continuing on our simple example: "
      ]
    },
    {
      "cell_type": "code",
      "execution_count": null,
      "metadata": {
        "id": "WAk7_20auGdJ"
      },
      "outputs": [],
      "source": [
        "toy_dataloader = DataLoader(toy_dataset, batch_size = 2, shuffle = True)"
      ]
    },
    {
      "cell_type": "code",
      "execution_count": null,
      "metadata": {
        "id": "oTvn7nmZuGgE",
        "colab": {
          "base_uri": "https://localhost:8080/"
        },
        "outputId": "85273e12-109b-4269-8807-c46aada9d4d3"
      },
      "outputs": [
        {
          "output_type": "stream",
          "name": "stdout",
          "text": [
            "Epoch:0\n",
            "Batch: ('i walked down down the boulevard', 'i walked down the avenue'); labels: tensor([0, 0])\n",
            "Batch: ('i walk down the city', 'i ran down the boulevard'); labels: tensor([0, 1])\n",
            "Batch: ('i walk down the the avenue',); labels: tensor([0])\n",
            "Epoch:1\n",
            "Batch: ('i walked down the avenue', 'i walk down the city'); labels: tensor([0, 0])\n",
            "Batch: ('i walk down the the avenue', 'i ran down the boulevard'); labels: tensor([0, 1])\n",
            "Batch: ('i walked down down the boulevard',); labels: tensor([0])\n",
            "Epoch:2\n",
            "Batch: ('i walk down the city', 'i ran down the boulevard'); labels: tensor([0, 1])\n",
            "Batch: ('i walked down the avenue', 'i walked down down the boulevard'); labels: tensor([0, 0])\n",
            "Batch: ('i walk down the the avenue',); labels: tensor([0])\n"
          ]
        }
      ],
      "source": [
        "for e in range(3):\n",
        "    print(\"Epoch:\" + str(e))\n",
        "    for x, y in toy_dataloader:\n",
        "        print(\"Batch: \" + str(x) + \"; labels: \" + str(y))  "
      ]
    },
    {
      "cell_type": "markdown",
      "metadata": {
        "id": "7lgbEZpbuQLN"
      },
      "source": [
        "### Data processing of a text dataset\n",
        "\n",
        "Now, we would like to apply what we saw to our case, and **create a specific class** ```TextClassificationDataset``` **inheriting** ```Dataset``` that will:\n",
        "- Create a vocabulary from the data (use what we saw in the previous TP)\n",
        "- Preprocess the data using this vocabulary, adding whatever we need for our pytorch model\n",
        "- Have a ```__getitem__``` method that allows us to use the class with a ```Dataloader``` to easily build batches."
      ]
    },
    {
      "cell_type": "code",
      "execution_count": null,
      "metadata": {
        "id": "LXMyhHSfuGl4"
      },
      "outputs": [],
      "source": [
        "import os\n",
        "import sys\n",
        "import os.path as op\n",
        "from torch.nn import functional as F\n",
        "import numpy as np\n",
        "import random\n",
        "\n",
        "from torch.nn.utils.rnn import pad_sequence"
      ]
    },
    {
      "cell_type": "markdown",
      "metadata": {
        "id": "brvWrFAHvfzX"
      },
      "source": [
        "First, we get the data: "
      ]
    },
    {
      "cell_type": "code",
      "execution_count": null,
      "metadata": {
        "id": "WWrPRszpuGoY"
      },
      "outputs": [],
      "source": [
        "from sklearn.datasets import fetch_20newsgroups\n",
        "newsgroups_train = fetch_20newsgroups(subset='train')\n",
        "newsgroups_test = fetch_20newsgroups(subset='test')"
      ]
    },
    {
      "cell_type": "markdown",
      "metadata": {
        "id": "g2F1biXNv62G"
      },
      "source": [
        "Example of one document:"
      ]
    },
    {
      "cell_type": "code",
      "execution_count": null,
      "metadata": {
        "id": "2XL0ZBz_uCTX",
        "colab": {
          "base_uri": "https://localhost:8080/"
        },
        "outputId": "b2784db8-df10-41cd-e103-9ad768164893"
      },
      "outputs": [
        {
          "output_type": "stream",
          "name": "stdout",
          "text": [
            "From: lerxst@wam.umd.edu (where's my thing)\n",
            "Subject: WHAT car is this!?\n",
            "Nntp-Posting-Host: rac3.wam.umd.edu\n",
            "Organization: University of Maryland, College Park\n",
            "Lines: 15\n",
            "\n",
            " I was wondering if anyone out there could enlighten me on this car I saw\n",
            "the other day. It was a 2-door sports car, looked to be from the late 60s/\n",
            "early 70s. It was called a Bricklin. The doors were really small. In addition,\n",
            "the front bumper was separate from the rest of the body. This is \n",
            "all I know. If anyone can tellme a model name, engine specs, years\n",
            "of production, where this car is made, history, or whatever info you\n",
            "have on this funky looking car, please e-mail.\n",
            "\n",
            "Thanks,\n",
            "- IL\n",
            "   ---- brought to you by your neighborhood Lerxst ----\n",
            "\n",
            "\n",
            "\n",
            "\n",
            "\n",
            "7\n",
            "rec.autos\n"
          ]
        }
      ],
      "source": [
        "print(newsgroups_train['data'][0])\n",
        "print(newsgroups_train['target'][0])\n",
        "print(newsgroups_train.target_names[newsgroups_train['target'][0]])"
      ]
    },
    {
      "cell_type": "markdown",
      "metadata": {
        "id": "fTuq86F_w38k"
      },
      "source": [
        "We can now implement our ```TextClassificationDataset``` class, that we will build from:\n",
        "- A list of texts in the dataset: ```data```\n",
        "- A list of the corresponding categories: ```categories```\n",
        "We will add three optional arguments:\n",
        "- First, a way to input a vocabulary (so that we can re-use the training vocabulary on the testing  ```TextClassificationDataset```). By default, the value of the argument is ```None```.\n",
        "- In order to work with batches, we will need to have sequences of the same size. That can be done via **padding** but we will still need to limit the size of documents (to avoid having batches of huge sequences that are mostly empty because of one very long documents) to a ```max_length```. Let's put it to 200 by default.\n",
        "- Lastly, a ```voc_threshold``` that indicates the number of words to be taken in the vocabulary. "
      ]
    },
    {
      "cell_type": "markdown",
      "metadata": {
        "id": "uEv4BW4ow6Qe"
      },
      "source": [
        "The idea behind **padding** is to transform a list of pytorch tensors (of maybe different length) into a two dimensional tensor - which we can see as a batch. The size of the first dimension is the one of the longest tensor - and other are **padded** with a chosen symbol: here, we choose 0. "
      ]
    },
    {
      "cell_type": "code",
      "execution_count": null,
      "metadata": {
        "id": "5HvjckX8wW_Y"
      },
      "outputs": [],
      "source": [
        "tensor_1 = torch.LongTensor([1, 4, 5])\n",
        "tensor_2 = torch.LongTensor([2])\n",
        "tensor_3 = torch.LongTensor([6, 7])"
      ]
    },
    {
      "cell_type": "code",
      "execution_count": null,
      "metadata": {
        "id": "1TkfZxx6w9E-",
        "colab": {
          "base_uri": "https://localhost:8080/"
        },
        "outputId": "7c4350aa-d99a-4753-e3bf-88d769d4e39e"
      },
      "outputs": [
        {
          "output_type": "stream",
          "name": "stdout",
          "text": [
            "tensor([[1, 4, 5],\n",
            "        [2, 0, 0],\n",
            "        [6, 7, 0]])\n"
          ]
        }
      ],
      "source": [
        "tensor_padded = pad_sequence([tensor_1, tensor_2, tensor_3], batch_first=True, padding_value = 0)\n",
        "print(tensor_padded)"
      ]
    },
    {
      "cell_type": "code",
      "execution_count": null,
      "metadata": {
        "id": "Fl2qH7nEwCyv"
      },
      "outputs": [],
      "source": [
        "import re\n",
        "def clean_and_tokenize(text):    \n",
        "    # Lowercase\n",
        "    text = text.lower()\n",
        "    # Remove anything but letters\n",
        "    text = re.sub(r\"[^a-z]+\", \" \", text)\n",
        "    \n",
        "    tokens = text.split()        \n",
        "    return tokens"
      ]
    },
    {
      "cell_type": "markdown",
      "metadata": {
        "id": "V79Eep4_eY3z"
      },
      "source": [
        "<div class='alert alert-block alert-info'>\n",
        "            Code:</div>"
      ]
    },
    {
      "cell_type": "markdown",
      "source": [
        "### **Comments :**\n",
        "\n",
        "The code defines a TextClassificationDataset class, which is a subclass of the Dataset class provided by the PyTorch library. This class is used for creating custom datasets for text classification tasks. It has several methods to handle the data, build the vocabulary, and preprocess the input data.\n",
        "\n",
        "Here is a breakdown of the code:\n",
        "\n",
        "- __init__: The constructor initializes the dataset with the given data and categories. It accepts an optional vocab parameter, which can be used to pass an existing vocabulary. If no vocabulary is provided, the constructor builds one using the build_vocab method. The data is then tokenized, indexed, converted to tensors, and padded to create a consistent tensor representation.\n",
        "\n",
        "- __len__: This method returns the number of samples in the dataset.\n",
        "\n",
        "- __getitem__: This method takes an index idx and returns the input and target tensors at that index. The DataLoader will use this method to fetch the data and create batches.\n",
        "\n",
        "- build_vocab: This method creates the vocabulary and its reverse dictionary using the given corpus and a minimum frequency threshold. It also includes special tokens: 'PAD' and 'UNK'. 'PAD' is used to pad shorter sequences, and 'UNK' is used for words not in the vocabulary.\n",
        "\n",
        "- get_vocab: This method returns the word2idx and idx2word dictionaries, which can be used to convert between words and their corresponding indices.\n",
        "\n",
        "The TextClassificationDataset class is used to preprocess the text data and make it ready for training and testing using PyTorch. It tokenizes the text, builds the vocabulary, indexes the words, and pads the sequences, making it easy to work with DataLoader for batching and shuffling the data.\n"
      ],
      "metadata": {
        "id": "uRaYbbVxjQhu"
      }
    },
    {
      "cell_type": "code",
      "source": [
        "class TextClassificationDataset(Dataset):\n",
        "    def __init__(self, data, categories, vocab=None, max_length=200, voc_threshold=5000):\n",
        "        self.data = data\n",
        "        # Set the maximum length we will keep for the sequences\n",
        "        self.max_length = max_length\n",
        "\n",
        "        # Allow to import a vocabulary (for valid/test datasets, that will use the training vocabulary)\n",
        "        if vocab is not None:\n",
        "            self.word2idx, self.idx2word = vocab\n",
        "        else:\n",
        "            # If no vocabulary imported, build it (and reverse)\n",
        "            self.word2idx, self.idx2word = self.build_vocab(self.data, voc_threshold)\n",
        "\n",
        "        # We then need to tokenize the data ..\n",
        "        tokenized_data = [clean_and_tokenize(text) for text in self.data]\n",
        "        # Transform words into lists of indexes ... (use the .get() method to redirect unknown words to the UNK token)\n",
        "        indexed_data = [[self.word2idx.get(token, self.word2idx['UNK']) for token in text] for text in tokenized_data]\n",
        "        # And transform this list of lists into a list of Pytorch LongTensors\n",
        "        tensor_data = [torch.LongTensor(indexes) for indexes in indexed_data]\n",
        "        # And the categories into a LongTensor\n",
        "        tensor_y = torch.LongTensor(categories)\n",
        "        # To finally cut it when it's above the maximum length\n",
        "        cut_tensor_data = [tensor[:self.max_length] if len(tensor) > self.max_length else tensor for tensor in tensor_data]\n",
        "\n",
        "        # Now, we need to use the pad_sequence function to have the whole dataset represented as one tensor,\n",
        "        # containing sequences of the same length. We choose the padding_value to be 0, the we want the\n",
        "        # batch dimension to be the first dimension\n",
        "        self.tensor_data = pad_sequence(cut_tensor_data, batch_first=True, padding_value=0)\n",
        "        self.tensor_y = tensor_y\n",
        "\n",
        "    # ... the rest of the class remains unchanged\n",
        "    def __len__(self):\n",
        "        return len(self.data)\n",
        "\n",
        "    def __getitem__(self, idx):\n",
        "        # The iterator just gets one particular example with its category\n",
        "        # The dataloader will take care of the shuffling and batching\n",
        "        if torch.is_tensor(idx):\n",
        "            idx = idx.tolist()\n",
        "        return self.tensor_data[idx], self.tensor_y[idx] \n",
        "    \n",
        "    def build_vocab(self, corpus, voc_threshold):\n",
        "        \"\"\"\n",
        "        Same as in the previous TP: we want to output word_index, a dictionary containing words \n",
        "        and their corresponding indexes as {word : indexes} \n",
        "        But we also want the reverse, which is a dictionary {indexes: word}\n",
        "        Don't forget to add a UNK token that we need when encountering unknown words\n",
        "        We also choose '0' to represent the padding index, so begin the vocabulary index at 1 ! \n",
        "        \"\"\"\n",
        "        # To complete\n",
        "        # First, tokenize the corpus\n",
        "        tokenized_corpus = [clean_and_tokenize(text) for text in corpus]\n",
        "\n",
        "        # Count the occurrences of each word in the corpus\n",
        "        word_counts = {}\n",
        "        for text in tokenized_corpus:\n",
        "            for word in text:\n",
        "                word_counts[word] = word_counts.get(word, 0) + 1\n",
        "\n",
        "        # Sort the words by their frequency (descending order) and then alphabetically\n",
        "        sorted_words = sorted(word_counts.keys(), key=lambda x: (-word_counts[x], x))\n",
        "\n",
        "        # Keep only the top voc_threshold words\n",
        "        top_words = sorted_words[:voc_threshold]\n",
        "\n",
        "        # Build the word_index and idx_word dictionaries\n",
        "        word_index = {'PAD': 0, 'UNK': 1}\n",
        "        idx_word = {0: 'PAD', 1: 'UNK'}\n",
        "\n",
        "        for idx, word in enumerate(top_words, start=2):\n",
        "            word_index[word] = idx\n",
        "            idx_word[idx] = word\n",
        "\n",
        "        return word_index, idx_word\n",
        "    \n",
        "    def get_vocab(self):\n",
        "        # A simple way to get the training vocab when building the valid/test \n",
        "        return self.word2idx, self.idx2word"
      ],
      "metadata": {
        "id": "ya8KNfyMhZ-O"
      },
      "execution_count": null,
      "outputs": []
    },
    {
      "cell_type": "code",
      "source": [
        "'''class TextClassificationDataset(Dataset):\n",
        "    def __init__(self, data, categories, vocab=None, max_length=200, voc_threshold=5000):\n",
        "        self.data = data\n",
        "        # Set the maximum length we will keep for the sequences\n",
        "        self.max_length = max_length\n",
        "\n",
        "        # Allow to import a vocabulary (for valid/test datasets, that will use the training vocabulary)\n",
        "        if vocab is not None:\n",
        "            self.word2idx, self.idx2word = vocab\n",
        "        else:\n",
        "            # If no vocabulary imported, build it (and reverse)\n",
        "            self.word2idx, self.idx2word = self.build_vocab(self.data, voc_threshold)\n",
        "\n",
        "        # We then need to tokenize the data ..\n",
        "        tokenized_data = [clean_and_tokenize(text) for text in self.data]\n",
        "        # Transform words into lists of indexes ... (use the .get() method to redirect unknown words to the UNK token)\n",
        "        indexed_data = [[self.word2idx.get(token, self.word2idx['UNK']) for token in text] for text in tokenized_data]\n",
        "        # And transform this list of lists into a list of Pytorch LongTensors\n",
        "        tensor_data = [torch.LongTensor(indexes) for indexes in indexed_data]\n",
        "        # And the categories into a LongTensor\n",
        "        tensor_y = torch.LongTensor(categories)\n",
        "        # To finally cut it when it's above the maximum length\n",
        "        cut_tensor_data = [tensor[:self.max_length] if len(tensor) > self.max_length else tensor for tensor in tensor_data]\n",
        "\n",
        "        # Now, we need to use the pad_sequence function to have the whole dataset represented as one tensor,\n",
        "        # containing sequences of the same length. We choose the padding_value to be 0, the we want the\n",
        "        # batch dimension to be the first dimension\n",
        "        self.tensor_data = pad_sequence(cut_tensor_data, batch_first=True, padding_value=0)\n",
        "        self.tensor_y = tensor_y\n",
        "\n",
        "    # ... the rest of the class remains unchanged\n",
        "    def __len__(self):\n",
        "        return len(self.data)\n",
        "\n",
        "    def __getitem__(self, idx):\n",
        "        # The iterator just gets one particular example with its category\n",
        "        # The dataloader will take care of the shuffling and batching\n",
        "        if torch.is_tensor(idx):\n",
        "            idx = idx.tolist()\n",
        "        return self.tensor_data[idx], self.tensor_y[idx] \n",
        "    \n",
        "    def build_vocab(self, corpus, voc_threshold):\n",
        "        \"\"\"\n",
        "        Same as in the previous TP: we want to output word_index, a dictionary containing words \n",
        "        and their corresponding indexes as {word : indexes} \n",
        "        But we also want the reverse, which is a dictionary {indexes: word}\n",
        "        Don't forget to add a UNK token that we need when encountering unknown words\n",
        "        We also choose '0' to represent the padding index, so begin the vocabulary index at 1 ! \n",
        "        \"\"\"\n",
        "        # To complete\n",
        "        # First, tokenize the corpus\n",
        "        tokenized_corpus = [clean_and_tokenize(text) for text in corpus]\n",
        "\n",
        "        # Count the occurrences of each word in the corpus\n",
        "        word_counts = {}\n",
        "        for text in tokenized_corpus:\n",
        "            for word in text:\n",
        "                word_counts[word] = word_counts.get(word, 0) + 1\n",
        "\n",
        "        # Keep only the words that appear at least voc_threshold times\n",
        "        frequent_words = {word: count for word, count in word_counts.items() if count >= voc_threshold}\n",
        "\n",
        "        # Sort the words by their frequency (descending order) and then alphabetically\n",
        "        sorted_words = sorted(frequent_words.keys(), key=lambda x: (-frequent_words[x], x))\n",
        "\n",
        "        # Build the word_index and idx_word dictionaries\n",
        "        word_index = {'PAD': 0, 'UNK': 1}\n",
        "        idx_word = {0: 'PAD', 1: 'UNK'}\n",
        "\n",
        "        for idx, word in enumerate(sorted_words, start=2):\n",
        "            word_index[word] = idx\n",
        "            idx_word[idx] = word\n",
        "\n",
        "        return word_index, idx_word\n",
        "    \n",
        "    def get_vocab(self):\n",
        "        # A simple way to get the training vocab when building the valid/test \n",
        "        return self.word2idx, self.idx2word'''"
      ],
      "metadata": {
        "colab": {
          "base_uri": "https://localhost:8080/",
          "height": 122
        },
        "id": "pDrTsvfIDo8G",
        "outputId": "246e9cc9-410c-49a5-b5b6-4ba7dcb888ee"
      },
      "execution_count": null,
      "outputs": [
        {
          "output_type": "execute_result",
          "data": {
            "text/plain": [
              "'class TextClassificationDataset(Dataset):\\n    def __init__(self, data, categories, vocab=None, max_length=200, voc_threshold=5000):\\n        self.data = data\\n        # Set the maximum length we will keep for the sequences\\n        self.max_length = max_length\\n\\n        # Allow to import a vocabulary (for valid/test datasets, that will use the training vocabulary)\\n        if vocab is not None:\\n            self.word2idx, self.idx2word = vocab\\n        else:\\n            # If no vocabulary imported, build it (and reverse)\\n            self.word2idx, self.idx2word = self.build_vocab(self.data, voc_threshold)\\n\\n        # We then need to tokenize the data ..\\n        tokenized_data = [clean_and_tokenize(text) for text in self.data]\\n        # Transform words into lists of indexes ... (use the .get() method to redirect unknown words to the UNK token)\\n        indexed_data = [[self.word2idx.get(token, self.word2idx[\\'UNK\\']) for token in text] for text in tokenized_data]\\n        # And transform this list of lists into a list of Pytorch LongTensors\\n        tensor_data = [torch.LongTensor(indexes) for indexes in indexed_data]\\n        # And the categories into a LongTensor\\n        tensor_y = torch.LongTensor(categories)\\n        # To finally cut it when it\\'s above the maximum length\\n        cut_tensor_data = [tensor[:self.max_length] if len(tensor) > self.max_length else tensor for tensor in tensor_data]\\n\\n        # Now, we need to use the pad_sequence function to have the whole dataset represented as one tensor,\\n        # containing sequences of the same length. We choose the padding_value to be 0, the we want the\\n        # batch dimension to be the first dimension\\n        self.tensor_data = pad_sequence(cut_tensor_data, batch_first=True, padding_value=0)\\n        self.tensor_y = tensor_y\\n\\n    # ... the rest of the class remains unchanged\\n    def __len__(self):\\n        return len(self.data)\\n\\n    def __getitem__(self, idx):\\n        # The iterator just gets one particular example with its category\\n        # The dataloader will take care of the shuffling and batching\\n        if torch.is_tensor(idx):\\n            idx = idx.tolist()\\n        return self.tensor_data[idx], self.tensor_y[idx] \\n    \\n    def build_vocab(self, corpus, voc_threshold):\\n        \"\"\"\\n        Same as in the previous TP: we want to output word_index, a dictionary containing words \\n        and their corresponding indexes as {word : indexes} \\n        But we also want the reverse, which is a dictionary {indexes: word}\\n        Don\\'t forget to add a UNK token that we need when encountering unknown words\\n        We also choose \\'0\\' to represent the padding index, so begin the vocabulary index at 1 ! \\n        \"\"\"\\n        # To complete\\n        # First, tokenize the corpus\\n        tokenized_corpus = [clean_and_tokenize(text) for text in corpus]\\n\\n        # Count the occurrences of each word in the corpus\\n        word_counts = {}\\n        for text in tokenized_corpus:\\n            for word in text:\\n                word_counts[word] = word_counts.get(word, 0) + 1\\n\\n        # Keep only the words that appear at least voc_threshold times\\n        frequent_words = {word: count for word, count in word_counts.items() if count >= voc_threshold}\\n\\n        # Sort the words by their frequency (descending order) and then alphabetically\\n        sorted_words = sorted(frequent_words.keys(), key=lambda x: (-frequent_words[x], x))\\n\\n        # Build the word_index and idx_word dictionaries\\n        word_index = {\\'PAD\\': 0, \\'UNK\\': 1}\\n        idx_word = {0: \\'PAD\\', 1: \\'UNK\\'}\\n\\n        for idx, word in enumerate(sorted_words, start=2):\\n            word_index[word] = idx\\n            idx_word[idx] = word\\n\\n        return word_index, idx_word\\n    \\n    def get_vocab(self):\\n        # A simple way to get the training vocab when building the valid/test \\n        return self.word2idx, self.idx2word'"
            ],
            "application/vnd.google.colaboratory.intrinsic+json": {
              "type": "string"
            }
          },
          "metadata": {},
          "execution_count": 150
        }
      ]
    },
    {
      "cell_type": "code",
      "execution_count": null,
      "metadata": {
        "id": "QwA5Jxm3w9Kw"
      },
      "outputs": [],
      "source": [
        "training_dataset = TextClassificationDataset(newsgroups_train['data'], newsgroups_train['target'])\n",
        "training_word2idx, training_idx2word = training_dataset.get_vocab()"
      ]
    },
    {
      "cell_type": "code",
      "execution_count": null,
      "metadata": {
        "id": "n3ei2xd6JnvS"
      },
      "outputs": [],
      "source": [
        "test_dataset = TextClassificationDataset(newsgroups_test['data'], newsgroups_test['target'], (training_word2idx, training_idx2word))"
      ]
    },
    {
      "cell_type": "code",
      "execution_count": null,
      "metadata": {
        "id": "FvWlJpbRw9Pt"
      },
      "outputs": [],
      "source": [
        "training_dataloader = DataLoader(training_dataset, batch_size = 200, shuffle=True)\n",
        "test_dataloader = DataLoader(test_dataset, batch_size = 25)"
      ]
    },
    {
      "cell_type": "code",
      "execution_count": null,
      "metadata": {
        "id": "LidGZUp-w9SN",
        "colab": {
          "base_uri": "https://localhost:8080/"
        },
        "outputId": "8e308ff4-e61c-4f62-f798-7cff3cc32185"
      },
      "outputs": [
        {
          "output_type": "stream",
          "name": "stdout",
          "text": [
            "(tensor([  17, 2000, 1994, 2000, 1684, 4223,   18,   35,   33,  771,   39,   84,\n",
            "          72,   36,  146,  148,  100,   86,   98,  609,  154, 1957,    1,   72,\n",
            "           1,    8,   26,   23, 2832,   37,   47,   25,    2,  829,    4,  118,\n",
            "          33,  771,    1,   31,  164, 1748,   99,    9,   73, 1247,    1,    8,\n",
            "         152,  224,    3,  133,   99,    7,  354,  140,   50,    4,   45,  208,\n",
            "           8,  152,  224,    1,  627,   19,   45, 2688,  512,   78, 2765,    1,\n",
            "          33, 4889,    7,    8,  152, 3074,    3, 3785, 1832,    1,  169,   31,\n",
            "         130,   11,    8,   26,  357,   13,   99,    8,   38,   16,  431,    3,\n",
            "         190,   71,   33,  771,   15,    9,    1,  205,    1,  121,   14,   52,\n",
            "          14,  172,  336,   72,   66,   33,  771, 3642,    8,   95,    8,  191,\n",
            "         265,   97,    5,  244,    1,   31,    8,   38, 1512,   12,    8,  490,\n",
            "        2000, 1994, 2000, 1684, 4223,   18,    1,    1,  981, 4578,  124,    1,\n",
            "           1,  336,    5,    1,   97,   50,  180,    1,    1,    1, 4802,    1,\n",
            "           1, 2000, 1994,    1,    1,    1,  207,    0,    0,    0,    0,    0,\n",
            "           0,    0,    0,    0,    0,    0,    0,    0,    0,    0,    0,    0,\n",
            "           0,    0,    0,    0,    0,    0,    0,    0,    0,    0,    0,    0,\n",
            "           0,    0,    0,    0,    0,    0,    0,    0]), tensor(5))\n"
          ]
        }
      ],
      "source": [
        "print(test_dataset[1])"
      ]
    },
    {
      "cell_type": "code",
      "execution_count": null,
      "metadata": {
        "id": "891JXUwPw9Ux",
        "colab": {
          "base_uri": "https://localhost:8080/"
        },
        "outputId": "b5081154-2295-4646-d684-928e56d9c3c5"
      },
      "outputs": [
        {
          "output_type": "stream",
          "name": "stdout",
          "text": [
            "torch.Size([200, 200])\n",
            "torch.Size([200])\n"
          ]
        }
      ],
      "source": [
        "example_batch = next(iter(training_dataloader))\n",
        "print(example_batch[0].size())\n",
        "print(example_batch[1].size())"
      ]
    },
    {
      "cell_type": "markdown",
      "metadata": {
        "id": "7n9XkuTs0GKT"
      },
      "source": [
        "### A simple averaging model\n",
        "\n",
        "Now, we will implement in Pytorch what we did in the previous TP: a simple averaging model. For each model we will implement, we need to create a class which inherits from ```nn.Module``` and redifine the ```__init__``` method as well as the ```forward``` method.\n",
        "\n",
        "<div class='alert alert-block alert-info'>\n",
        "            Code:</div>"
      ]
    },
    {
      "cell_type": "markdown",
      "source": [
        "### **Comments :**\n",
        "\n",
        "The code below defines an AveragingModel class that inherits from PyTorch's nn.Module class. This model is a simple text classification model that uses word embeddings and averages them to create a fixed-size representation of input text. Then, a linear layer is used to transform this representation into a classification score for each class.\n",
        "\n",
        "- In the __init__ method, the following components are defined:\n",
        "\n",
        "  - self.embeddings: This is an instance of PyTorch's nn.Embedding layer, which is used to represent words as fixed-size vectors (embeddings). The vocabulary size is increased by one to account for padding. The padding_idx is set to 0, which indicates that the padding token will have an embedding of all zeros.\n",
        "  - self.linear: This is an instance of PyTorch's nn.Linear layer, which is used to transform the mean of the word embeddings into a classification score for each class. The input size is embedding_dim, and the output size is nb_classes.\n",
        "\n",
        "- In the forward method, the following steps are performed for input tensors:\n",
        "\n",
        "  - Compute the mean of the word embeddings along the sequence length dimension (dim=1) using self.embeddings(inputs).mean(dim=1). This operation calculates the mean embedding for each document in the batch.\n",
        "  - Pass the mean embeddings through the linear layer (self.linear(x)) and remove the extra dimension using the .squeeze() method. This step produces the classification scores for each class.\n",
        "\n",
        "\n",
        "The softmax activation is not applied in the model, as it will be included in the loss function (criterion) during training."
      ],
      "metadata": {
        "id": "of8-v7SknNMo"
      }
    },
    {
      "cell_type": "code",
      "execution_count": null,
      "metadata": {
        "id": "wCmyWWQq0LDS"
      },
      "outputs": [],
      "source": [
        "# Models are usually implemented as custom nn.Module subclass\n",
        "# We need to redefine the __init__ method, which creates the object\n",
        "# We also need to redefine the forward method, which transform the input into outputs\n",
        "\n",
        "class AveragingModel(nn.Module):    \n",
        "    def __init__(self, embedding_dim, vocabulary_size, nb_classes):\n",
        "        super().__init__()\n",
        "        # Create an embedding object. Be careful to padding - you need to increase the vocabulary size by one !\n",
        "        # Look into the arguments of the nn.Embedding class\n",
        "        self.embeddings = nn.Embedding(vocabulary_size + 1, embedding_dim, padding_idx=0)\n",
        "        # Create a linear layer that will transform the mean of the embeddings into a classification score\n",
        "        self.linear = nn.Linear(embedding_dim, nb_classes)\n",
        "        \n",
        "        # No need for softmax, it will be into the criterion ! \n",
        "        \n",
        "    def forward(self, inputs):\n",
        "        # Remember: the inpts are written as Batch_size * seq_length * embedding_dim\n",
        "        # First, take the mean of the embeddings of the document\n",
        "        x = self.embeddings(inputs).mean(dim=1)\n",
        "        # Then make it go through the linear layer and remove the extra dimension with the method .squeeze()\n",
        "        o = self.linear(x).squeeze()\n",
        "        return o"
      ]
    },
    {
      "cell_type": "code",
      "execution_count": null,
      "metadata": {
        "id": "5VH2C2rE0FR_"
      },
      "outputs": [],
      "source": [
        "import torch.optim as optim"
      ]
    },
    {
      "cell_type": "code",
      "execution_count": null,
      "metadata": {
        "id": "wZp4RDMW0LGX"
      },
      "outputs": [],
      "source": [
        "model = AveragingModel(300, len(training_word2idx), len(newsgroups_train.target_names))\n",
        "# Create an optimizer\n",
        "opt = optim.Adam(model.parameters(), lr=0.025, betas=(0.9, 0.999))\n",
        "# The criterion is a cross entropy loss based on logits - meaning that the softmax is integrated into the criterion\n",
        "criterion = nn.CrossEntropyLoss()"
      ]
    },
    {
      "cell_type": "markdown",
      "metadata": {
        "id": "DoWN4y78eY30"
      },
      "source": [
        "<div class='alert alert-block alert-info'>\n",
        "            Code:</div>"
      ]
    },
    {
      "cell_type": "markdown",
      "source": [
        "### **Comments :**\n",
        "\n",
        "This code creates an AveragingModel instance with an embedding dimension of 300, the size of the training vocabulary, and the number of target classes.\n",
        "\n",
        "- An Adam optimizer is created with a learning rate of 0.025 and the default betas values (0.9, 0.999).\n",
        "\n",
        "- The criterion used for computing the loss is the CrossEntropyLoss, which includes the softmax activation function.\n",
        "\n",
        "The train_epoch function trains the model for one epoch. It goes through the following steps for each batch of data in the dataloader:\n",
        "\n",
        "  - Forward pass: Pass the input tensor x through the model and obtain the predictions pred.\n",
        "  - Compute the loss: Calculate the loss between the predicted values pred and the true labels y using the criterion.\n",
        "  - Compute gradients: Call the backward() method on the loss tensor to compute the gradients for each parameter.\n",
        "  - Update weights: Use the optimizer's step() method to update the model's weights based on the computed gradients.\n",
        "\n",
        "The function also keeps track of the training loss and accuracy for each batch and prints this information every 20 batches.\n",
        "\n",
        "\n",
        "\n"
      ],
      "metadata": {
        "id": "OeDWwBMwpWbl"
      }
    },
    {
      "cell_type": "code",
      "execution_count": null,
      "metadata": {
        "id": "JM9MFRVQ0LJh"
      },
      "outputs": [],
      "source": [
        "# Implement a training function, which will train the model with the corresponding optimizer and criterion,\n",
        "# with the appropriate dataloader, for one epoch.\n",
        "\n",
        "def train_epoch(model, opt, criterion, dataloader):\n",
        "    model.train()\n",
        "    losses = []\n",
        "    for i, (x, y) in enumerate(dataloader):\n",
        "        opt.zero_grad()\n",
        "        # (1) Forward\n",
        "        pred = model(x)\n",
        "        # (2) Compute the loss \n",
        "        loss = criterion(pred, y)\n",
        "        # (3) Compute gradients with the criterion\n",
        "        loss.backward()\n",
        "        # (4) Update weights with the optimizer\n",
        "        opt.step()\n",
        "        losses.append(loss.item())\n",
        "        # Count the number of correct predictions in the batch \n",
        "        num_corrects = (torch.argmax(pred, dim=1) == y).sum().item()\n",
        "        acc = 100.0 * num_corrects/len(y)\n",
        "        \n",
        "        if (i%20 == 0):\n",
        "            print(\"Batch \" + str(i) + \" : training loss = \" + str(loss.item()) + \"; training acc = \" + str(acc)) #.item()\n",
        "    return losses"
      ]
    },
    {
      "cell_type": "markdown",
      "metadata": {
        "id": "WBLZxqnxeY30"
      },
      "source": [
        "<div class='alert alert-block alert-info'>\n",
        "            Code:</div>"
      ]
    },
    {
      "cell_type": "markdown",
      "source": [
        "### Comments :\n",
        "\n",
        "The eval_model function evaluates the model on a given dataset using the provided criterion and evalloader. \n",
        "- The function sets the model to evaluation mode using model.eval() and,\n",
        "-  disables gradient calculation with torch.no_grad().\n",
        "\n",
        "- For each batch in the evalloader : \n",
        "  - the function performs a forward pass, \n",
        "  - computes the loss and counts the number of correct predictions. \n",
        "  - It accumulates the total loss and accuracy, and finally, \n",
        "  - returns the average loss and accuracy for the entire dataset."
      ],
      "metadata": {
        "id": "IvB5Jo4wqmHZ"
      }
    },
    {
      "cell_type": "code",
      "execution_count": null,
      "metadata": {
        "id": "vz82AFmL0LMx"
      },
      "outputs": [],
      "source": [
        "# Same for the evaluation ! We don't need the optimizer here. \n",
        "def eval_model(model, criterion, evalloader):\n",
        "    model.eval()\n",
        "    total_epoch_loss = 0\n",
        "    total_epoch_acc = 0\n",
        "    with torch.no_grad():\n",
        "        for i, (x, y) in enumerate(evalloader):\n",
        "            pred = model(x)\n",
        "            loss = criterion(pred, y)\n",
        "            num_corrects = (torch.argmax(pred, dim=1) == y).sum().item()\n",
        "            acc = 100.0 * num_corrects/len(y)\n",
        "            total_epoch_loss += loss.item()\n",
        "            total_epoch_acc += acc #.item()\n",
        "\n",
        "    return total_epoch_loss/(i+1), total_epoch_acc/(i+1)"
      ]
    },
    {
      "cell_type": "markdown",
      "source": [
        "### **Comments :**\n",
        "\n",
        "The experiment function is a utility function that helps you quickly train and evaluate a model for a specified number of epochs, with an option for early stopping based on the validation loss.\n",
        "\n",
        "Here's the description of the function:\n",
        "\n",
        "- The function takes in a model, opt (optimizer), criterion (loss function), num_epochs (number of epochs to train the model for), and an early_stopping flag (whether to use early stopping or not).\n",
        "- It initializes an empty list train_losses to store the training losses for all epochs.\n",
        "- If early stopping is enabled, it initializes the best_valid_loss to a large value.\n",
        "- For each epoch :\n",
        "  - the function trains the model using train_epoch and evaluates the model on the validation set using eval_model.\n",
        "  - It accumulates the training losses for each epoch.\n",
        "  - If early stopping is enabled, it checks whether the current validation loss is lower than the best validation loss. If not, it stops the training process early.\n",
        "  - After training, it evaluates the model on the test set using eval_model and prints the test loss and accuracy.\n",
        "\n",
        "- The function finally returns the list of training losses.\n",
        "\n",
        "This function allows you to quickly train and evaluate your model while monitoring the validation loss for early stopping, which can help prevent overfitting."
      ],
      "metadata": {
        "id": "IteM4snBrtsl"
      }
    },
    {
      "cell_type": "code",
      "execution_count": null,
      "metadata": {
        "id": "J8grPth70ZyO"
      },
      "outputs": [],
      "source": [
        "# A function which will help you execute experiments rapidly - with a early_stopping option when necessary. \n",
        "def experiment(model, opt, criterion, num_epochs = 5, early_stopping = True):\n",
        "    train_losses = []\n",
        "    if early_stopping: \n",
        "        best_valid_loss = 100000. \n",
        "    print(\"Beginning training...\")\n",
        "    for e in range(num_epochs):\n",
        "        print(\"Epoch \" + str(e+1) + \":\")\n",
        "        train_losses += train_epoch(model, opt, criterion, training_dataloader)\n",
        "        valid_loss, valid_acc = eval_model(model, criterion, test_dataloader)\n",
        "        print(\"Epoch \" + str(e+1) + \" : Validation loss = \" + str(valid_loss) + \"; Validation acc = \" + str(valid_acc))\n",
        "        if early_stopping:\n",
        "            if valid_loss < best_valid_loss:\n",
        "                best_valid_loss = valid_loss\n",
        "            else:\n",
        "                print(\"Early stopping.\")\n",
        "                break  \n",
        "    test_loss, test_acc = eval_model(model, criterion, test_dataloader)\n",
        "    print(\"Epoch \" + str(e+1) + \" : Test loss = \" + str(test_loss) + \"; Test acc = \" + str(test_acc))\n",
        "    return train_losses"
      ]
    },
    {
      "cell_type": "code",
      "execution_count": null,
      "metadata": {
        "id": "UZvgnfo10Z1i",
        "colab": {
          "base_uri": "https://localhost:8080/"
        },
        "outputId": "36cf4082-2a1b-4898-e0bd-6c4fce86e912"
      },
      "outputs": [
        {
          "output_type": "stream",
          "name": "stdout",
          "text": [
            "Beginning training...\n",
            "Epoch 1:\n",
            "Batch 0 : training loss = 2.987682580947876; training acc = 5.0\n",
            "Batch 20 : training loss = 1.769598364830017; training acc = 58.0\n",
            "Batch 40 : training loss = 1.050083875656128; training acc = 69.5\n",
            "Epoch 1 : Validation loss = 0.9120469150559002; Validation acc = 73.83159886471145\n",
            "Epoch 2:\n",
            "Batch 0 : training loss = 0.6217235922813416; training acc = 86.0\n",
            "Batch 20 : training loss = 0.31173643469810486; training acc = 93.0\n",
            "Batch 40 : training loss = 0.3297223746776581; training acc = 91.0\n",
            "Epoch 2 : Validation loss = 0.7543542812399516; Validation acc = 78.64711447492905\n",
            "Epoch 3:\n",
            "Batch 0 : training loss = 0.1829896718263626; training acc = 95.5\n",
            "Batch 20 : training loss = 0.12946024537086487; training acc = 98.5\n",
            "Batch 40 : training loss = 0.14562489092350006; training acc = 97.5\n",
            "Epoch 3 : Validation loss = 0.7576890251297035; Validation acc = 78.77199621570483\n",
            "Early stopping.\n",
            "Epoch 3 : Test loss = 0.7576890251297035; Test acc = 78.77199621570483\n"
          ]
        }
      ],
      "source": [
        "train_losses = experiment(model, opt, criterion)"
      ]
    },
    {
      "cell_type": "code",
      "execution_count": null,
      "metadata": {
        "id": "m-CIwDga0Z7q",
        "colab": {
          "base_uri": "https://localhost:8080/",
          "height": 282
        },
        "outputId": "6d702893-2ca6-4080-cd6e-3c352ee13345"
      },
      "outputs": [
        {
          "output_type": "execute_result",
          "data": {
            "text/plain": [
              "[<matplotlib.lines.Line2D at 0x7f48cb2cb1c0>]"
            ]
          },
          "metadata": {},
          "execution_count": 163
        },
        {
          "output_type": "display_data",
          "data": {
            "text/plain": [
              "<Figure size 432x288 with 1 Axes>"
            ],
            "image/png": "[encoded data removed]"
          },
          "metadata": {
            "needs_background": "light"
          }
        }
      ],
      "source": [
        "import matplotlib.pyplot as plt\n",
        "plt.plot(train_losses)"
      ]
    },
    {
      "cell_type": "markdown",
      "metadata": {
        "id": "kp8d-0N7JPlR"
      },
      "source": [
        "### With Glove embeddings: \n",
        "\n",
        "Now, we would like to integrate pre-trained word embeddings into our model ! Let's use again the functions that we used in the previous TP:"
      ]
    },
    {
      "cell_type": "markdown",
      "source": [
        "### **Comments :**\n",
        "\n",
        "The code above is used to load the pre-trained GloVe word embeddings and adapt them to the vocabulary used in your dataset.\n",
        "\n",
        "- First, it imports the gensim.downloader as api and loads the \"glove-wiki-gigaword-300\" model using the api.load() function. This model contains 300-dimensional GloVe word embeddings trained on the Wikipedia and Gigaword datasets.\n",
        "\n",
        "- It retrieves the vectors of the GloVe model and stores them in loaded_glove_embeddings.\n",
        "\n",
        "- The get_glove_adapted_embeddings function is defined, which takes a GloVe model (glove_model) and the input vocabulary (input_voc) as its arguments. This function is used to adapt the pre-trained GloVe embeddings to the vocabulary used in your dataset.\n",
        "\n",
        "- Inside the function :\n",
        "\n",
        "  - it creates a dictionary keys that maps the words in your input vocabulary to their corresponding GloVe embedding keys, if available.\n",
        "\n",
        "  - It initializes an empty NumPy array embeddings with the shape (len(input_voc)+1, glove_model.vectors.shape[1]) to store the adapted embeddings. The extra +1 in the length of the input vocabulary accounts for the padding token.\n",
        "\n",
        "  - It populates the embeddings array with the corresponding GloVe embeddings for each word in the input vocabulary. If a word is not found in the GloVe model, its embedding will remain as a zero vector.\n",
        "\n",
        "  - Finally, it calls the get_glove_adapted_embeddings function with the loaded_glove_model and training_word2idx to create the adapted embeddings for your dataset and stores them in the GloveEmbeddings variable."
      ],
      "metadata": {
        "id": "WEy-CMDvum6h"
      }
    },
    {
      "cell_type": "code",
      "execution_count": null,
      "metadata": {
        "id": "RUa7xjDv0Z-0"
      },
      "outputs": [],
      "source": [
        "import gensim.downloader as api\n",
        "loaded_glove_model = api.load(\"glove-wiki-gigaword-300\")\n",
        "loaded_glove_embeddings = loaded_glove_model.vectors"
      ]
    },
    {
      "cell_type": "code",
      "execution_count": null,
      "metadata": {
        "id": "unwB2-4r0aBg"
      },
      "outputs": [],
      "source": [
        "def get_glove_adapted_embeddings(glove_model, input_voc):\n",
        "    keys = {i: glove_model.vocab.get(w, None) for w, i in input_voc.items()}\n",
        "    index_dict = {i: key.index for i, key in keys.items() if key is not None}\n",
        "    embeddings = np.zeros((len(input_voc)+1,glove_model.vectors.shape[1]))\n",
        "    for i, ind in index_dict.items():\n",
        "        embeddings[i] = glove_model.vectors[ind]\n",
        "    return embeddings\n",
        "\n",
        "GloveEmbeddings = get_glove_adapted_embeddings(loaded_glove_model, training_word2idx)"
      ]
    },
    {
      "cell_type": "code",
      "execution_count": null,
      "metadata": {
        "id": "dhoS6NH20aEU",
        "colab": {
          "base_uri": "https://localhost:8080/"
        },
        "outputId": "682dbc74-2d49-461d-9174-d93c1f7d63e9"
      },
      "outputs": [
        {
          "output_type": "stream",
          "name": "stdout",
          "text": [
            "(5003, 300)\n",
            "[0. 0. 0. 0. 0. 0. 0. 0. 0. 0. 0. 0. 0. 0. 0. 0. 0. 0. 0. 0. 0. 0. 0. 0.\n",
            " 0. 0. 0. 0. 0. 0. 0. 0. 0. 0. 0. 0. 0. 0. 0. 0. 0. 0. 0. 0. 0. 0. 0. 0.\n",
            " 0. 0. 0. 0. 0. 0. 0. 0. 0. 0. 0. 0. 0. 0. 0. 0. 0. 0. 0. 0. 0. 0. 0. 0.\n",
            " 0. 0. 0. 0. 0. 0. 0. 0. 0. 0. 0. 0. 0. 0. 0. 0. 0. 0. 0. 0. 0. 0. 0. 0.\n",
            " 0. 0. 0. 0. 0. 0. 0. 0. 0. 0. 0. 0. 0. 0. 0. 0. 0. 0. 0. 0. 0. 0. 0. 0.\n",
            " 0. 0. 0. 0. 0. 0. 0. 0. 0. 0. 0. 0. 0. 0. 0. 0. 0. 0. 0. 0. 0. 0. 0. 0.\n",
            " 0. 0. 0. 0. 0. 0. 0. 0. 0. 0. 0. 0. 0. 0. 0. 0. 0. 0. 0. 0. 0. 0. 0. 0.\n",
            " 0. 0. 0. 0. 0. 0. 0. 0. 0. 0. 0. 0. 0. 0. 0. 0. 0. 0. 0. 0. 0. 0. 0. 0.\n",
            " 0. 0. 0. 0. 0. 0. 0. 0. 0. 0. 0. 0. 0. 0. 0. 0. 0. 0. 0. 0. 0. 0. 0. 0.\n",
            " 0. 0. 0. 0. 0. 0. 0. 0. 0. 0. 0. 0. 0. 0. 0. 0. 0. 0. 0. 0. 0. 0. 0. 0.\n",
            " 0. 0. 0. 0. 0. 0. 0. 0. 0. 0. 0. 0. 0. 0. 0. 0. 0. 0. 0. 0. 0. 0. 0. 0.\n",
            " 0. 0. 0. 0. 0. 0. 0. 0. 0. 0. 0. 0. 0. 0. 0. 0. 0. 0. 0. 0. 0. 0. 0. 0.\n",
            " 0. 0. 0. 0. 0. 0. 0. 0. 0. 0. 0. 0.]\n"
          ]
        }
      ],
      "source": [
        "print(GloveEmbeddings.shape)\n",
        "# We should check that the \"padding\" vector is at zero\n",
        "print(GloveEmbeddings[0])"
      ]
    },
    {
      "cell_type": "markdown",
      "metadata": {
        "id": "SpkmUwA4LjT0"
      },
      "source": [
        "Here, implement a ```PretrainedAveragingModel``` very similar to the previous model, using the ```nn.Embedding``` method ```from_pretrained()``` to initialize the embeddings from a numpy array. Use the ```requires_grad_``` method to specify if the model must fine-tune the embeddings or not ! \n",
        "<div class='alert alert-block alert-info'>\n",
        "            Code:</div>"
      ]
    },
    {
      "cell_type": "markdown",
      "source": [
        "### **Comments :** \n",
        "\n",
        "- In the __init__ method, you pass the pretrained_embeddings, nb_classes, and an optional fine_tune parameter. \n",
        "  - The fine_tune parameter is a boolean that indicates whether the model should fine-tune the embeddings during training or not. By default, it is set to False.\n",
        "\n",
        "- The nn.Embedding.from_pretrained() method is used to create the embedding object with pre-trained embeddings. \n",
        "  - The freeze argument is set to the opposite of the fine_tune value to make sure the embeddings are fine-tuned only when fine_tune is True. \n",
        "  - The requires_grad_() method is used to set the requires_grad attribute according to the fine_tune value."
      ],
      "metadata": {
        "id": "p5ZyrVEovJHu"
      }
    },
    {
      "cell_type": "code",
      "source": [
        "class PretrainedAveragingModel(nn.Module):\n",
        "    def __init__(self, embedding_dim, vocabulary_size, nb_classes, pretrained_embeddings, fine_tune=False):\n",
        "        super().__init__()\n",
        "        # Create an embedding object with pre-trained embeddings\n",
        "        self.embeddings = nn.Embedding.from_pretrained(torch.tensor(pretrained_embeddings).clone().detach().float(), freeze=not fine_tune)\n",
        "        \n",
        "        # Set requires_grad to fine-tune or not the embeddings\n",
        "        self.embeddings.requires_grad_(fine_tune)\n",
        "        \n",
        "        # Create a linear layer that will transform the mean of the embeddings into a classification score\n",
        "        self.linear = nn.Linear(embedding_dim, nb_classes)\n",
        "        \n",
        "    def forward(self, inputs):\n",
        "        # Take the mean of the embeddings of the document\n",
        "        x = torch.mean(self.embeddings(inputs), dim=1)\n",
        "        \n",
        "        # Make it go through the linear layer and remove the extra dimension with the method .squeeze()\n",
        "        o = self.linear(x).squeeze()\n",
        "        return o"
      ],
      "metadata": {
        "id": "KTqGqfnXTDyk"
      },
      "execution_count": null,
      "outputs": []
    },
    {
      "cell_type": "markdown",
      "metadata": {
        "id": "rmQUbBVxLtwa"
      },
      "source": [
        "### **Questions:** \n",
        "- What are the results **with and without fine-tuning of embeddings imported from GloVe** ?\n",
        "- Make hypothesis based on your intuition and the class on how the size of the vocabulary (change the minimum frequency of words to be taken in the vocabular) will impact results, in the three cases (No pre-training, pre-training without fine-tuning, pretraining with fine-tuning).\n",
        "- Verify experiments and analyze your results !\n",
        "\n",
        "<div class='alert alert-block alert-warning'>\n",
        "            Questions:</div>\n",
        "\n",
        "<div class='alert alert-block alert-info'>\n",
        "            Code:</div>\n",
        "\n",
        "### **Answers :**\n",
        "\n",
        "The potential outcomes of each scenario in the experiments :\n",
        "\n",
        "- **No pre-training:**\n",
        "In this case, the model will learn embeddings from scratch. The performance may be lower compared to the scenarios with pre-trained embeddings, especially if the dataset is small or the vocabulary size is large.\n",
        "\n",
        "- **Pre-training without fine-tuning:**\n",
        "Using pre-trained GloVe embeddings without fine-tuning can lead to better performance than without pre-training. The embeddings have been trained on a massive corpus, capturing useful semantic information. However, since the embeddings are not fine-tuned, the model may not adapt well to the specific characteristics of the dataset.\n",
        "\n",
        "- **Pre-training with fine-tuning:**\n",
        "Fine-tuning the pre-trained embeddings can lead to the best performance, as it allows the model to leverage the knowledge from the pre-trained embeddings while adapting to the nuances of the dataset during training.\n",
        "\n",
        "To test our hypotheses, we can perform experiments with varying vocabulary sizes by changing the minimum frequency of words to be taken in the vocabulary.\n",
        "\n",
        "For each vocabulary size, train the three types of models (no pre-training, pre-training without fine-tuning, and pre-training with fine-tuning) and compare their performances using metrics like accuracy, loss, etc.\n",
        "\n",
        "Intuitively, as the vocabulary size increases:\n",
        "\n",
        "- **No pre-training:**\n",
        "The model's performance may degrade due to the increased complexity and potential overfitting, especially with limited training data.\n",
        "\n",
        "- **Pre-training without fine-tuning:**\n",
        "The performance should be more stable compared to the no pre-training scenario since the model leverages pre-trained embeddings. However, it might still be affected by the vocabulary size since the model can't adapt to the dataset's specificities.\n",
        "\n",
        "- **Pre-training with fine-tuning:**\n",
        "The model's performance should be the least affected by the increased vocabulary size. Fine-tuning allows the model to adapt to the dataset's specificities while leveraging the pre-trained embeddings.\n"
      ]
    },
    {
      "cell_type": "code",
      "execution_count": null,
      "metadata": {
        "id": "xc6i1FXsLil8",
        "colab": {
          "base_uri": "https://localhost:8080/"
        },
        "outputId": "639dfa30-d4e2-42d7-b7d0-481a1dc6c84c"
      },
      "outputs": [
        {
          "output_type": "stream",
          "name": "stderr",
          "text": [
            "<ipython-input-169-f4ff000c4012>:5: UserWarning: To copy construct from a tensor, it is recommended to use sourceTensor.clone().detach() or sourceTensor.clone().detach().requires_grad_(True), rather than torch.tensor(sourceTensor).\n",
            "  self.embeddings = nn.Embedding.from_pretrained(torch.tensor(pretrained_embeddings).float(), freeze=not fine_tune)\n"
          ]
        }
      ],
      "source": [
        "model_pre_trained = PretrainedAveragingModel(300, len(training_word2idx), len(newsgroups_train.target_names), torch.FloatTensor(GloveEmbeddings), True)\n",
        "opt_pre_trained = optim.Adam(model_pre_trained.parameters(), lr=0.05, betas=(0.9, 0.999))"
      ]
    },
    {
      "cell_type": "code",
      "execution_count": null,
      "metadata": {
        "id": "kzgSTvT5LiqC",
        "colab": {
          "base_uri": "https://localhost:8080/"
        },
        "outputId": "73f55785-3010-4111-d31c-157dc13a64b7"
      },
      "outputs": [
        {
          "output_type": "stream",
          "name": "stdout",
          "text": [
            "Beginning training...\n",
            "Epoch 1:\n",
            "Batch 0 : training loss = 2.988069772720337; training acc = 6.0\n",
            "Batch 20 : training loss = 1.1258890628814697; training acc = 70.0\n",
            "Batch 40 : training loss = 0.6080073714256287; training acc = 82.0\n",
            "Epoch 1 : Validation loss = 0.7876603468660487; Validation acc = 77.14285714285715\n",
            "Epoch 2:\n",
            "Batch 0 : training loss = 0.21286499500274658; training acc = 94.5\n",
            "Batch 20 : training loss = 0.12253055721521378; training acc = 97.5\n",
            "Batch 40 : training loss = 0.2058873027563095; training acc = 94.5\n",
            "Epoch 2 : Validation loss = 0.8455454419977617; Validation acc = 78.18921475875119\n",
            "Early stopping.\n",
            "Epoch 2 : Test loss = 0.8455454419977617; Test acc = 78.18921475875119\n"
          ]
        }
      ],
      "source": [
        "train_losses = experiment(model_pre_trained, opt_pre_trained, criterion)"
      ]
    },
    {
      "cell_type": "code",
      "source": [
        "## Redefining experiment function\n",
        "\n",
        "def train_epoch(model, opt, criterion, dataloader):\n",
        "    model.train()\n",
        "    losses = []\n",
        "    for i, (x, y) in enumerate(dataloader):\n",
        "        opt.zero_grad()\n",
        "        # (1) Forward\n",
        "        pred = model(x)\n",
        "        # (2) Compute the loss \n",
        "        loss = criterion(pred, y)\n",
        "        # (3) Compute gradients with the criterion\n",
        "        loss.backward()\n",
        "        # (4) Update weights with the optimizer\n",
        "        opt.step()\n",
        "        losses.append(loss.item())\n",
        "        # Count the number of correct predictions in the batch \n",
        "        num_corrects = (torch.argmax(pred, dim=1) == y).sum().item()\n",
        "        acc = 100.0 * num_corrects/len(y)\n",
        "        \n",
        "        #if (i%20 == 0):\n",
        "            #print(\"Batch \" + str(i) + \" : training loss = \" + str(loss.item()) + \"; training acc = \" + str(acc)) #.item()\n",
        "    return losses\n",
        "\n",
        "    \n",
        "# A function which will help you execute experiments rapidly - with a early_stopping option when necessary. \n",
        "def experiment(model, opt, criterion, num_epochs = 5, early_stopping = True):\n",
        "    train_losses = []\n",
        "    if early_stopping: \n",
        "        best_valid_loss = 100000. \n",
        "    for e in range(num_epochs):\n",
        "        train_losses += train_epoch(model, opt, criterion, training_dataloader)\n",
        "        valid_loss, valid_acc = eval_model(model, criterion, test_dataloader)\n",
        "        if early_stopping:\n",
        "            if valid_loss < best_valid_loss:\n",
        "                best_valid_loss = valid_loss\n",
        "            else:\n",
        "                break  \n",
        "    test_loss, test_acc = eval_model(model, criterion, test_dataloader)\n",
        "    return train_losses"
      ],
      "metadata": {
        "id": "vwXhB1m6bgYz"
      },
      "execution_count": null,
      "outputs": []
    },
    {
      "cell_type": "code",
      "source": [
        "import matplotlib.pyplot as plt\n",
        "\n",
        "# Define a list of vocabulary size thresholds\n",
        "vocab_thresholds = [200, 1000, 2000, 5000]\n",
        "\n",
        "# Initialize lists to store train_losses for each scenario\n",
        "no_pretrain_losses = []\n",
        "pretrain_no_finetune_losses = []\n",
        "pretrain_finetune_losses = []\n",
        "\n",
        "# Iterate through vocabulary size thresholds\n",
        "for threshold in vocab_thresholds:\n",
        "\n",
        "    no_pretrain_losses = []\n",
        "    pretrain_no_finetune_losses = []\n",
        "    pretrain_finetune_losses = []\n",
        "\n",
        "    # Update the vocabulary by modifying the threshold\n",
        "    # Update training_word2idx and idx2word accordingly\n",
        "    \n",
        "    training_dataset = TextClassificationDataset(newsgroups_train['data'], newsgroups_train['target'], voc_threshold=threshold)\n",
        "    training_word2idx, training_idx2word = training_dataset.get_vocab()\n",
        "    \n",
        "    # Update test dataset and create new data loaders\n",
        "    test_dataset = TextClassificationDataset(newsgroups_test['data'], newsgroups_test['target'], (training_word2idx, training_idx2word))\n",
        "    training_dataloader = DataLoader(training_dataset, batch_size=200, shuffle=True)\n",
        "    test_dataloader = DataLoader(test_dataset, batch_size=25)\n",
        "    # Train the three types of models and obtain their train_losses\n",
        "    # 1. No pre-training\n",
        "    model_no_pretrain = AveragingModel(300, len(training_word2idx), len(newsgroups_train.target_names))\n",
        "    opt_no_pretrain = optim.Adam(model_no_pretrain.parameters(), lr=0.025, betas=(0.9, 0.999))\n",
        "    train_losses_no_pretrain = experiment(model_no_pretrain, opt_no_pretrain, criterion)\n",
        "\n",
        "    # 2. Pre-training without fine-tuning\n",
        "    model_pretrain_no_finetune = PretrainedAveragingModel(300, len(training_word2idx), len(newsgroups_train.target_names), torch.FloatTensor(GloveEmbeddings), fine_tune=False)\n",
        "    opt_pretrain_no_finetune = optim.Adam(model_pretrain_no_finetune.parameters(), lr=0.025, betas=(0.9, 0.999))\n",
        "    train_losses_pretrain_no_finetune = experiment(model_pretrain_no_finetune, opt_pretrain_no_finetune, criterion)\n",
        "\n",
        "    # 3. Pre-training with fine-tuning\n",
        "    model_pretrain_finetune = PretrainedAveragingModel(300, len(training_word2idx), len(newsgroups_train.target_names), torch.FloatTensor(GloveEmbeddings), fine_tune=True)\n",
        "    opt_pretrain_finetune = optim.Adam(model_pretrain_finetune.parameters(), lr=0.025, betas=(0.9, 0.999))\n",
        "    train_losses_pretrain_finetune = experiment(model_pretrain_finetune, opt_pretrain_finetune, criterion)\n",
        "\n",
        "    # Plot the train_losses for each scenario\n",
        "    fig= plt.figure(figsize=(8,8))\n",
        "    #for i, threshold in enumerate(vocab_thresholds):\n",
        "    plt.plot(train_losses_no_pretrain, color='b', linestyle='-') #label=f'No Pretrain - Vocab Threshold {threshold}',\n",
        "    plt.plot(train_losses_pretrain_no_finetune, color='g',  linestyle='--') #label=f'Pretrain No Finetune - Vocab Threshold {threshold}',\n",
        "    plt.plot(train_losses_pretrain_finetune, color='m',  linestyle=':') #label=f'Pretrain Finetune - Vocab Threshold {threshold}',\n",
        "\n",
        "    plt.xlabel('Training Steps')\n",
        "    plt.ylabel('Loss')\n",
        "    #plt.legend(train_losses_no_pretrain,train_losses_pretrain_no_finetune,train_losses_pretrain_finetune)\n",
        "    plt.title('Training Losses for Different Vocabulary Sizes and Models')\n",
        "    plt.show()\n"
      ],
      "metadata": {
        "colab": {
          "base_uri": "https://localhost:8080/",
          "height": 1000
        },
        "id": "MBRir1yp0GDE",
        "outputId": "9efc9b4c-ed71-4310-a771-51b639347ed3"
      },
      "execution_count": null,
      "outputs": [
        {
          "output_type": "stream",
          "name": "stderr",
          "text": [
            "<ipython-input-169-f4ff000c4012>:5: UserWarning: To copy construct from a tensor, it is recommended to use sourceTensor.clone().detach() or sourceTensor.clone().detach().requires_grad_(True), rather than torch.tensor(sourceTensor).\n",
            "  self.embeddings = nn.Embedding.from_pretrained(torch.tensor(pretrained_embeddings).float(), freeze=not fine_tune)\n"
          ]
        },
        {
          "output_type": "display_data",
          "data": {
            "text/plain": [
              "<Figure size 576x576 with 1 Axes>"
            ],
            "image/png": "[encoded data removed]"
          },
          "metadata": {
            "needs_background": "light"
          }
        },
        {
          "output_type": "display_data",
          "data": {
            "text/plain": [
              "<Figure size 576x576 with 1 Axes>"
            ],
            "image/png": "[encoded data removed]"
          },
          "metadata": {
            "needs_background": "light"
          }
        },
        {
          "output_type": "display_data",
          "data": {
            "text/plain": [
              "<Figure size 576x576 with 1 Axes>"
            ],
            "image/png": "[encoded data removed]"
          },
          "metadata": {
            "needs_background": "light"
          }
        },
        {
          "output_type": "display_data",
          "data": {
            "text/plain": [
              "<Figure size 576x576 with 1 Axes>"
            ],
            "image/png": "[encoded data removed]"
          },
          "metadata": {
            "needs_background": "light"
          }
        }
      ]
    },
    {
      "cell_type": "markdown",
      "metadata": {
        "id": "KTl3gbSUMBLw"
      },
      "source": [
        "### LSTM Cells in pytorch"
      ]
    },
    {
      "cell_type": "code",
      "execution_count": null,
      "metadata": {
        "id": "8yaj6nLJMDR4",
        "colab": {
          "base_uri": "https://localhost:8080/"
        },
        "outputId": "f9b9b7f7-1453-4b75-f0b5-81c8126252a6"
      },
      "outputs": [
        {
          "output_type": "stream",
          "name": "stdout",
          "text": [
            "tensor([[[-0.0117,  0.1513,  0.1567]],\n",
            "\n",
            "        [[-0.0254,  0.3077,  0.0396]],\n",
            "\n",
            "        [[-0.2639,  0.1023,  0.0169]],\n",
            "\n",
            "        [[-0.0122,  0.0564,  0.0268]],\n",
            "\n",
            "        [[ 0.0566, -0.1773,  0.1526]]], grad_fn=<StackBackward0>)\n",
            "(tensor([[[ 0.0566, -0.1773,  0.1526]]], grad_fn=<StackBackward0>), tensor([[[ 0.2504, -0.4489,  0.4070]]], grad_fn=<StackBackward0>))\n"
          ]
        }
      ],
      "source": [
        "# Create a toy example of LSTM: \n",
        "lstm = nn.LSTM(3, 3)  # Input dim is 3, output dim is 3\n",
        "inputs = [torch.randn(1, 3) for _ in range(5)]  # make a sequence of length 5\n",
        "\n",
        "# LSTMs expect inputs having 3 dimensions:\n",
        "# - The first dimension is the temporal dimension, along which we (in our case) have the different words\n",
        "# - The second dimension is the batch dimension, along which we stack the independant batches\n",
        "# - The third dimension is the feature dimension, along which are the features of the vector representing the words\n",
        "\n",
        "# In our toy case, we have inputs and outputs containing 3 features (third dimension !)\n",
        "# We created a sequence of 5 different inputs (first dimension !)\n",
        "# We don't use batch (the second dimension will have one lement)\n",
        "\n",
        "# We need an initial hidden state, of the right sizes for dimension 2/3, but with only one temporal element:\n",
        "# Here, it is:\n",
        "hidden = (torch.randn(1, 1, 3),\n",
        "          torch.randn(1, 1, 3))\n",
        "# Why do we create a tuple of two tensors ? Because we use LSTMs: remember that they use two sets of weights,\n",
        "# and two hidden states (Hidden state, and Cell state).\n",
        "# If you don't remember, read: https://colah.github.io/posts/2015-08-Understanding-LSTMs/\n",
        "# If we used a classic RNN, we would simply have:\n",
        "# hidden = torch.randn(1, 1, 3)\n",
        "\n",
        "# The naive way of applying a lstm to inputs is to apply it one step at a time, and loop through the sequence\n",
        "for i in inputs:\n",
        "    # After each step, hidden contains the hidden states (remember, it's a tuple of two states).\n",
        "    out, hidden = lstm(i.view(1, 1, -1), hidden)\n",
        "    \n",
        "# Alternatively, we can do the entire sequence all at once.\n",
        "# The first value returned by LSTM is all of the Hidden states throughout the sequence.\n",
        "# The second is just the most recent Hidden state and Cell state (you can compare the values)\n",
        "# The reason for this is that:\n",
        "# \"out\" will give you access to all hidden states in the sequence, for each temporal step\n",
        "# \"hidden\" will allow you to continue the sequence and backpropagate later, with another sequence\n",
        "inputs = torch.cat(inputs).view(len(inputs), 1, -1)\n",
        "hidden = (torch.randn(1, 1, 3), torch.randn(1, 1, 3))  # Re-initialize\n",
        "out, hidden = lstm(inputs, hidden)\n",
        "print(out)\n",
        "print(hidden)"
      ]
    },
    {
      "cell_type": "markdown",
      "metadata": {
        "id": "QxCCoIVwMEoX"
      },
      "source": [
        "### Creating our own LSTM Model\n",
        "\n",
        "We'll implement now a LSTM model, taking the same inputs and also outputing a score for the sentence.\n",
        "<div class='alert alert-block alert-info'>\n",
        "            Code:</div>"
      ]
    },
    {
      "cell_type": "code",
      "execution_count": null,
      "metadata": {
        "id": "7obmINvlMGCB"
      },
      "outputs": [],
      "source": [
        "# Models are usually implemented as custom nn.Module subclass\n",
        "# We need to redefine the __init__ method, which creates the object\n",
        "# We also need to redefine the forward method, which transform the input into outputs\n",
        "\n",
        "class LSTMModel(nn.Module): \n",
        "    def __init__(self, embedding_dim, vocabulary_size, hidden_dim,nb_classes, embeddings=None, fine_tuning=False):\n",
        "        # To complete \n",
        "        # You will need to create the LSTM layer before the linear layer : use nn.LSTM and be careful with the dimensions !\n",
        "        super().__init__()\n",
        "\n",
        "        # Create an embedding object\n",
        "        if embeddings is not None:\n",
        "            self.embeddings = nn.Embedding.from_pretrained(torch.tensor(embeddings).clone().detach().float(), freeze=not fine_tuning)\n",
        "        else:\n",
        "            self.embeddings = nn.Embedding(vocabulary_size, embedding_dim)\n",
        "        \n",
        "        # Create an LSTM layer\n",
        "        self.lstm = nn.LSTM(embedding_dim, hidden_dim, batch_first=True)\n",
        "        \n",
        "        # Create a linear layer that will transform the hidden state into a classification score\n",
        "        self.linear = nn.Linear(hidden_dim, nb_classes)\n",
        "\n",
        "    def forward(self, inputs):\n",
        "        # To complete \n",
        "        # Process the input and apply the LSTM\n",
        "        # The output will have three dimensions (batch, temporal, nb_classes) - there is one that we won't entirely keep, since this is a many-to-one network\n",
        "        # Process the input and apply the embeddings\n",
        "        x = self.embeddings(inputs)\n",
        "        \n",
        "        # Apply the LSTM\n",
        "        lstm_out, (hidden, cell) = self.lstm(x)\n",
        "        \n",
        "        # Take the last hidden state from the LSTM output\n",
        "        last_hidden = self.linear(lstm_out[:, -1, :])\n",
        "        \n",
        "        # Make it go through the linear layer and remove the extra dimension with the method .squeeze()\n",
        "        o = last_hidden.squeeze()\n",
        "        return o\n"
      ]
    },
    {
      "cell_type": "markdown",
      "metadata": {
        "id": "55yoCnZCMMzh"
      },
      "source": [
        "### Questions: \n",
        "- What do you see with a simple application of LSTM models ? (Again, try with the three possible settings !) What are possible reasons for this ? (these could be linked to the data, the way it is pre-processed, the architecture, and the training procedure). \n",
        "\n",
        "<div class='alert alert-block alert-warning'>\n",
        "            Questions:</div>"
      ]
    },
    {
      "cell_type": "code",
      "execution_count": null,
      "metadata": {
        "id": "NeihrVgpMILu",
        "colab": {
          "base_uri": "https://localhost:8080/"
        },
        "outputId": "97573fbc-ef7c-471d-8f93-6fb97723ba64"
      },
      "outputs": [
        {
          "output_type": "stream",
          "name": "stderr",
          "text": [
            "<ipython-input-210-bec089698144>:13: UserWarning: To copy construct from a tensor, it is recommended to use sourceTensor.clone().detach() or sourceTensor.clone().detach().requires_grad_(True), rather than torch.tensor(sourceTensor).\n",
            "  self.embeddings = nn.Embedding.from_pretrained(torch.tensor(embeddings).clone().detach().float(), freeze=not fine_tuning)\n"
          ]
        }
      ],
      "source": [
        "recurrent_model = LSTMModel(300, len(training_word2idx), 100, len(newsgroups_train.target_names), torch.FloatTensor(GloveEmbeddings), True)\n",
        "opt_recurrent = optim.Adam(recurrent_model.parameters(), lr=0.025, betas=(0.9, 0.999))"
      ]
    },
    {
      "cell_type": "code",
      "execution_count": null,
      "metadata": {
        "id": "IS6apFUyMTdE"
      },
      "outputs": [],
      "source": [
        "train_losses = experiment(recurrent_model, opt_recurrent, criterion)"
      ]
    },
    {
      "cell_type": "code",
      "source": [
        "plt.plot(train_losses)"
      ],
      "metadata": {
        "colab": {
          "base_uri": "https://localhost:8080/",
          "height": 285
        },
        "id": "NmjBACjSmZjR",
        "outputId": "681d5bbc-8f42-44fd-ab74-f9cc06238794"
      },
      "execution_count": null,
      "outputs": [
        {
          "output_type": "execute_result",
          "data": {
            "text/plain": [
              "[<matplotlib.lines.Line2D at 0x7f48cf2fcdc0>]"
            ]
          },
          "metadata": {},
          "execution_count": 213
        },
        {
          "output_type": "display_data",
          "data": {
            "text/plain": [
              "<Figure size 432x288 with 1 Axes>"
            ],
            "image/png": "[encoded data removed]"
          },
          "metadata": {
            "needs_background": "light"
          }
        }
      ]
    },
    {
      "cell_type": "markdown",
      "metadata": {
        "id": "RsPQtHgBRiVl"
      },
      "source": [
        "# Fine-tuning a Bert model\n",
        "\n",
        "Fine-tune the lightest BERT model available on the data and compare it with previous results ! The code given here comes from the following tutorial, slightly adapted to our data:\n",
        "https://huggingface.co/transformers/custom_datasets.html#seq-imdb\n",
        "\n",
        "<div class='alert alert-block alert-info'>\n",
        "            Code:</div>"
      ]
    },
    {
      "cell_type": "code",
      "execution_count": null,
      "metadata": {
        "id": "TNG_DFckXKu5",
        "colab": {
          "base_uri": "https://localhost:8080/"
        },
        "outputId": "a373654b-71d0-482d-d95f-8096c5583c8a"
      },
      "outputs": [
        {
          "output_type": "stream",
          "name": "stdout",
          "text": [
            "Looking in indexes: https://pypi.org/simple, https://us-python.pkg.dev/colab-wheels/public/simple/\n",
            "Collecting transformers\n",
            "  Downloading transformers-4.27.2-py3-none-any.whl (6.8 MB)\n",
            "\u001b[2K     \u001b[90m━━━━━━━━━━━━━━━━━━━━━━━━━━━━━━━━━━━━━━━━\u001b[0m \u001b[32m6.8/6.8 MB\u001b[0m \u001b[31m57.0 MB/s\u001b[0m eta \u001b[36m0:00:00\u001b[0m\n",
            "\u001b[?25hCollecting huggingface-hub<1.0,>=0.11.0\n",
            "  Downloading huggingface_hub-0.13.3-py3-none-any.whl (199 kB)\n",
            "\u001b[2K     \u001b[90m━━━━━━━━━━━━━━━━━━━━━━━━━━━━━━━━━━━━━━\u001b[0m \u001b[32m199.8/199.8 KB\u001b[0m \u001b[31m25.6 MB/s\u001b[0m eta \u001b[36m0:00:00\u001b[0m\n",
            "\u001b[?25hRequirement already satisfied: requests in /usr/local/lib/python3.9/dist-packages (from transformers) (2.27.1)\n",
            "Requirement already satisfied: packaging>=20.0 in /usr/local/lib/python3.9/dist-packages (from transformers) (23.0)\n",
            "Requirement already satisfied: pyyaml>=5.1 in /usr/local/lib/python3.9/dist-packages (from transformers) (6.0)\n",
            "Requirement already satisfied: numpy>=1.17 in /usr/local/lib/python3.9/dist-packages (from transformers) (1.22.4)\n",
            "Requirement already satisfied: filelock in /usr/local/lib/python3.9/dist-packages (from transformers) (3.10.0)\n",
            "Requirement already satisfied: regex!=2019.12.17 in /usr/local/lib/python3.9/dist-packages (from transformers) (2022.10.31)\n",
            "Requirement already satisfied: tqdm>=4.27 in /usr/local/lib/python3.9/dist-packages (from transformers) (4.65.0)\n",
            "Collecting tokenizers!=0.11.3,<0.14,>=0.11.1\n",
            "  Downloading tokenizers-0.13.2-cp39-cp39-manylinux_2_17_x86_64.manylinux2014_x86_64.whl (7.6 MB)\n",
            "\u001b[2K     \u001b[90m━━━━━━━━━━━━━━━━━━━━━━━━━━━━━━━━━━━━━━━━\u001b[0m \u001b[32m7.6/7.6 MB\u001b[0m \u001b[31m104.3 MB/s\u001b[0m eta \u001b[36m0:00:00\u001b[0m\n",
            "\u001b[?25hRequirement already satisfied: typing-extensions>=3.7.4.3 in /usr/local/lib/python3.9/dist-packages (from huggingface-hub<1.0,>=0.11.0->transformers) (4.5.0)\n",
            "Requirement already satisfied: certifi>=2017.4.17 in /usr/local/lib/python3.9/dist-packages (from requests->transformers) (2022.12.7)\n",
            "Requirement already satisfied: idna<4,>=2.5 in /usr/local/lib/python3.9/dist-packages (from requests->transformers) (3.4)\n",
            "Requirement already satisfied: urllib3<1.27,>=1.21.1 in /usr/local/lib/python3.9/dist-packages (from requests->transformers) (1.26.15)\n",
            "Requirement already satisfied: charset-normalizer~=2.0.0 in /usr/local/lib/python3.9/dist-packages (from requests->transformers) (2.0.12)\n",
            "Installing collected packages: tokenizers, huggingface-hub, transformers\n",
            "Successfully installed huggingface-hub-0.13.3 tokenizers-0.13.2 transformers-4.27.2\n"
          ]
        }
      ],
      "source": [
        "!pip install transformers\n",
        "import transformers"
      ]
    },
    {
      "cell_type": "code",
      "execution_count": null,
      "metadata": {
        "id": "gatlD4VTYDTZ",
        "colab": {
          "base_uri": "https://localhost:8080/",
          "height": 145,
          "referenced_widgets": [
            "35da58a637254dbb84700070154de2b0",
            "9d12dde86c764d66ad26d1511504c157",
            "514009e65afa456cbdab2d393624e43f",
            "57f45af5e27b4331bb604b80ee0ed131",
            "34fac66eedb24241824898f9b77fcf51",
            "d3fa30cf15cc4f36bca05c026478c392",
            "0baceba707204aa9a2f3bbb9312b579a",
            "3e34c400e266476d9f2bdca3f7411f88",
            "de2ea53da8d645769bafcb4cd3e84e32",
            "ba51f27a9be04c1aad8033f8efe486a5",
            "ac75a4f714c64ef7a062bc27a3ac7df3",
            "b0bc0fb2e1ae48968b7bec8006844485",
            "65ed7fb13e294c6fa3c81aaaf4f0666a",
            "0f8b565f2ff74c029fb2c3287a3d80f0",
            "eb907cf0cacd4e559a7e46cdd6f70563",
            "f6ce4e62932d489088ef33fec15be768",
            "c1009328cf3b49a09cfb6c5db6222699",
            "38032f02bf9b4122823844a588a8c1ac",
            "52db1c6424ae41c399dc0f4a48c78c42",
            "e1d6c7b4d8094fa89847dc3a770b247f",
            "624970bc7f8c487d95271bc69638d474",
            "2a8c584aff89401bae4951fe6f2685a6",
            "73013bb32426495e8bbcfeb7c7a31b2f",
            "c364f5cfe67441638118d66d6b31824f",
            "7a94678b9c1d46feb5e5449b54c11486",
            "0f4b5bad3116473090bd8163070cdb2a",
            "02e1ea4e5dfa445f8917f52fb815829d",
            "ab20cb9541b340568849367afa53789b",
            "f930096fd27747909fc0f119a8b43b6e",
            "8133ca1161bf4397b51d84193385fbe1",
            "92717cd6b51a40189bc10fc1c7ef981b",
            "336f078fbce3432990975b5cc975d018",
            "d86fcd2114c245b0895df6d64d48d60c",
            "c7796597be13483e83e3017b0ec5bb65",
            "f5336ec024a743d19bd9861bf95a3d61",
            "bce799a6ea31431d9814db38028b9797",
            "0fb55e83861f43a18cf70853d2f8c81e",
            "2ffef6fdd169434fbfcc340f39377fc3",
            "8bf44daa946e4d788cdb8695034009ac",
            "be26c3a97ee441d08d79b0afb14053b9",
            "db8d8dadfdc840f2918efe678ce770b7",
            "256d38f3bb0e44c198906d79fee10355",
            "cbfb7e3404f64be290366534886dfa72",
            "f879345b79fb4f3aa858bb71b4729245"
          ]
        },
        "outputId": "1a72a46d-7c5a-4938-ba46-27b26523bc64"
      },
      "outputs": [
        {
          "output_type": "display_data",
          "data": {
            "text/plain": [
              "Downloading (…)okenizer_config.json:   0%|          | 0.00/28.0 [00:00<?, ?B/s]"
            ],
            "application/vnd.jupyter.widget-view+json": {
              "version_major": 2,
              "version_minor": 0,
              "model_id": "35da58a637254dbb84700070154de2b0"
            }
          },
          "metadata": {}
        },
        {
          "output_type": "display_data",
          "data": {
            "text/plain": [
              "Downloading (…)solve/main/vocab.txt:   0%|          | 0.00/232k [00:00<?, ?B/s]"
            ],
            "application/vnd.jupyter.widget-view+json": {
              "version_major": 2,
              "version_minor": 0,
              "model_id": "b0bc0fb2e1ae48968b7bec8006844485"
            }
          },
          "metadata": {}
        },
        {
          "output_type": "display_data",
          "data": {
            "text/plain": [
              "Downloading (…)/main/tokenizer.json:   0%|          | 0.00/466k [00:00<?, ?B/s]"
            ],
            "application/vnd.jupyter.widget-view+json": {
              "version_major": 2,
              "version_minor": 0,
              "model_id": "73013bb32426495e8bbcfeb7c7a31b2f"
            }
          },
          "metadata": {}
        },
        {
          "output_type": "display_data",
          "data": {
            "text/plain": [
              "Downloading (…)lve/main/config.json:   0%|          | 0.00/483 [00:00<?, ?B/s]"
            ],
            "application/vnd.jupyter.widget-view+json": {
              "version_major": 2,
              "version_minor": 0,
              "model_id": "c7796597be13483e83e3017b0ec5bb65"
            }
          },
          "metadata": {}
        }
      ],
      "source": [
        "from transformers import DistilBertTokenizerFast\n",
        "tokenizer = DistilBertTokenizerFast.from_pretrained('distilbert-base-uncased')"
      ]
    },
    {
      "cell_type": "code",
      "execution_count": null,
      "metadata": {
        "id": "xPnqQxQMyQNe"
      },
      "outputs": [],
      "source": [
        "train_encodings = tokenizer(newsgroups_train['data'], truncation=True, padding=True)\n",
        "test_encodings = tokenizer(newsgroups_test['data'], truncation=True, padding=True)"
      ]
    },
    {
      "cell_type": "code",
      "execution_count": null,
      "metadata": {
        "id": "9GUjp1MWyQ_i"
      },
      "outputs": [],
      "source": [
        "class ClassificationDataset(torch.utils.data.Dataset):\n",
        "    def __init__(self, encodings, labels):\n",
        "        self.encodings = encodings\n",
        "        self.labels = labels\n",
        "\n",
        "    def __getitem__(self, idx):\n",
        "        item = {key: torch.tensor(val[idx]) for key, val in self.encodings.items()}\n",
        "        item['labels'] = torch.tensor(self.labels[idx])\n",
        "        return item\n",
        "\n",
        "    def __len__(self):\n",
        "        return len(self.labels)\n",
        "\n",
        "train_dataset = ClassificationDataset(train_encodings, newsgroups_train['target'])\n",
        "test_dataset = ClassificationDataset(test_encodings, newsgroups_test['target'])"
      ]
    },
    {
      "cell_type": "code",
      "execution_count": null,
      "metadata": {
        "id": "UmKC3RWJyRF0"
      },
      "outputs": [],
      "source": [
        "from transformers import TrainingArguments\n",
        "from sklearn.metrics import accuracy_score  "
      ]
    },
    {
      "cell_type": "code",
      "execution_count": null,
      "metadata": {
        "id": "vX5rJkzTyRPp"
      },
      "outputs": [],
      "source": [
        "def compute_metrics(pred):\n",
        "  labels = pred.label_ids\n",
        "  preds = pred.predictions.argmax(-1)\n",
        "  acc = accuracy_score(labels, preds)\n",
        "  return {\n",
        "      'accuracy': acc,\n",
        "  }"
      ]
    },
    {
      "cell_type": "code",
      "execution_count": null,
      "metadata": {
        "id": "gGQdbihnyXgl"
      },
      "outputs": [],
      "source": [
        "training_args = TrainingArguments(\n",
        "    output_dir='./results',          \n",
        "    num_train_epochs=1,              \n",
        "    per_device_train_batch_size=16,  \n",
        "    per_device_eval_batch_size=64,   \n",
        "    warmup_steps=500,                \n",
        "    weight_decay=0.01,               \n",
        "    logging_dir='./logs',            \n",
        "    logging_steps=250,\n",
        ")"
      ]
    },
    {
      "cell_type": "code",
      "execution_count": null,
      "metadata": {
        "id": "BAY9PvXEyXoO"
      },
      "outputs": [],
      "source": [
        "from transformers import DistilBertForSequenceClassification, Trainer"
      ]
    },
    {
      "cell_type": "code",
      "execution_count": null,
      "metadata": {
        "id": "SrfzyW_9yXvg",
        "colab": {
          "base_uri": "https://localhost:8080/",
          "height": 156,
          "referenced_widgets": [
            "09fef7b1cb404211806194b6729e626d",
            "f121fe423d8840918bb153b43b391ee8",
            "a0522c7507354a22b010a59eac90dc24",
            "e74cb470ba85400c80654598e1f7be0b",
            "6dc7557005bf448b89335e58e5610023",
            "3ca2045da27d4b83b7e561bfa9dccad4",
            "7ad064724e8c4cf3821c74590871b746",
            "b029367be2524f07be150d1e2bc316a5",
            "72a26a554eaf4a6fa4b8c4b621a00dab",
            "8f6d106cbf3947e1aec9b06a4dbb3ca5",
            "bd49a4d0fbbf4e04bbc49306b664605b"
          ]
        },
        "outputId": "b4fcb961-fb77-4420-9876-cea48bd30cc7"
      },
      "outputs": [
        {
          "output_type": "display_data",
          "data": {
            "text/plain": [
              "Downloading pytorch_model.bin:   0%|          | 0.00/268M [00:00<?, ?B/s]"
            ],
            "application/vnd.jupyter.widget-view+json": {
              "version_major": 2,
              "version_minor": 0,
              "model_id": "09fef7b1cb404211806194b6729e626d"
            }
          },
          "metadata": {}
        },
        {
          "output_type": "stream",
          "name": "stderr",
          "text": [
            "Some weights of the model checkpoint at distilbert-base-uncased were not used when initializing DistilBertForSequenceClassification: ['vocab_layer_norm.bias', 'vocab_projector.weight', 'vocab_layer_norm.weight', 'vocab_transform.weight', 'vocab_projector.bias', 'vocab_transform.bias']\n",
            "- This IS expected if you are initializing DistilBertForSequenceClassification from the checkpoint of a model trained on another task or with another architecture (e.g. initializing a BertForSequenceClassification model from a BertForPreTraining model).\n",
            "- This IS NOT expected if you are initializing DistilBertForSequenceClassification from the checkpoint of a model that you expect to be exactly identical (initializing a BertForSequenceClassification model from a BertForSequenceClassification model).\n",
            "Some weights of DistilBertForSequenceClassification were not initialized from the model checkpoint at distilbert-base-uncased and are newly initialized: ['pre_classifier.bias', 'classifier.bias', 'pre_classifier.weight', 'classifier.weight']\n",
            "You should probably TRAIN this model on a down-stream task to be able to use it for predictions and inference.\n"
          ]
        }
      ],
      "source": [
        "model = DistilBertForSequenceClassification.from_pretrained(\"distilbert-base-uncased\", num_labels = len(newsgroups_train.target_names))"
      ]
    },
    {
      "cell_type": "code",
      "execution_count": null,
      "metadata": {
        "id": "uh9Rmwhlycq6"
      },
      "outputs": [],
      "source": [
        "trainer = Trainer(\n",
        "    model=model,                         \n",
        "    args=training_args,                  \n",
        "    train_dataset=train_dataset,         \n",
        "    eval_dataset=test_dataset,           \n",
        "    compute_metrics=compute_metrics             \n",
        ")"
      ]
    },
    {
      "cell_type": "code",
      "execution_count": null,
      "metadata": {
        "id": "AxZC0uszycz4",
        "colab": {
          "base_uri": "https://localhost:8080/",
          "height": 227
        },
        "outputId": "fdf5f276-9c02-4c46-baac-e02fa1a741fe"
      },
      "outputs": [
        {
          "output_type": "stream",
          "name": "stderr",
          "text": [
            "/usr/local/lib/python3.9/dist-packages/transformers/optimization.py:391: FutureWarning: This implementation of AdamW is deprecated and will be removed in a future version. Use the PyTorch implementation torch.optim.AdamW instead, or set `no_deprecation_warning=True` to disable this warning\n",
            "  warnings.warn(\n"
          ]
        },
        {
          "output_type": "display_data",
          "data": {
            "text/plain": [
              "<IPython.core.display.HTML object>"
            ],
            "text/html": [
              "\n",
              "    <div>\n",
              "      \n",
              "      <progress value='708' max='708' style='width:300px; height:20px; vertical-align: middle;'></progress>\n",
              "      [708/708 09:07, Epoch 1/1]\n",
              "    </div>\n",
              "    <table border=\"1\" class=\"dataframe\">\n",
              "  <thead>\n",
              " <tr style=\"text-align: left;\">\n",
              "      <th>Step</th>\n",
              "      <th>Training Loss</th>\n",
              "    </tr>\n",
              "  </thead>\n",
              "  <tbody>\n",
              "    <tr>\n",
              "      <td>250</td>\n",
              "      <td>2.470300</td>\n",
              "    </tr>\n",
              "    <tr>\n",
              "      <td>500</td>\n",
              "      <td>1.005800</td>\n",
              "    </tr>\n",
              "  </tbody>\n",
              "</table><p>"
            ]
          },
          "metadata": {}
        },
        {
          "output_type": "execute_result",
          "data": {
            "text/plain": [
              "TrainOutput(global_step=708, training_loss=1.4042514219122417, metrics={'train_runtime': 551.228, 'train_samples_per_second': 20.525, 'train_steps_per_second': 1.284, 'total_flos': 1499217249361920.0, 'train_loss': 1.4042514219122417, 'epoch': 1.0})"
            ]
          },
          "metadata": {},
          "execution_count": 224
        }
      ],
      "source": [
        "trainer.train()"
      ]
    },
    {
      "cell_type": "code",
      "execution_count": null,
      "metadata": {
        "id": "rvfFTMENygzU",
        "colab": {
          "base_uri": "https://localhost:8080/",
          "height": 141
        },
        "outputId": "03a4b335-b893-4eaf-c779-ebf79280db3a"
      },
      "outputs": [
        {
          "output_type": "display_data",
          "data": {
            "text/plain": [
              "<IPython.core.display.HTML object>"
            ],
            "text/html": [
              "\n",
              "    <div>\n",
              "      \n",
              "      <progress value='118' max='118' style='width:300px; height:20px; vertical-align: middle;'></progress>\n",
              "      [118/118 02:11]\n",
              "    </div>\n",
              "    "
            ]
          },
          "metadata": {}
        },
        {
          "output_type": "execute_result",
          "data": {
            "text/plain": [
              "{'eval_loss': 0.6218549013137817,\n",
              " 'eval_accuracy': 0.8146574614976102,\n",
              " 'eval_runtime': 133.095,\n",
              " 'eval_samples_per_second': 56.591,\n",
              " 'eval_steps_per_second': 0.887,\n",
              " 'epoch': 1.0}"
            ]
          },
          "metadata": {},
          "execution_count": 225
        }
      ],
      "source": [
        "trainer.evaluate()"
      ]
    }
  ],
  "metadata": {
    "accelerator": "GPU",
    "colab": {
      "provenance": []
    },
    "kernelspec": {
      "display_name": "Python 3 (ipykernel)",
      "language": "python",
      "name": "python3"
    },
    "language_info": {
      "codemirror_mode": {
        "name": "ipython",
        "version": 3
      },
      "file_extension": ".py",
      "mimetype": "text/x-python",
      "name": "python",
      "nbconvert_exporter": "python",
      "pygments_lexer": "ipython3",
      "version": "3.7.10"
    },
    "widgets": {
      "application/vnd.jupyter.widget-state+json": {
        "35da58a637254dbb84700070154de2b0": {
          "model_module": "@jupyter-widgets/controls",
          "model_name": "HBoxModel",
          "model_module_version": "1.5.0",
          "state": {
            "_dom_classes": [],
            "_model_module": "@jupyter-widgets/controls",
            "_model_module_version": "1.5.0",
            "_model_name": "HBoxModel",
            "_view_count": null,
            "_view_module": "@jupyter-widgets/controls",
            "_view_module_version": "1.5.0",
            "_view_name": "HBoxView",
            "box_style": "",
            "children": [
              "IPY_MODEL_9d12dde86c764d66ad26d1511504c157",
              "IPY_MODEL_514009e65afa456cbdab2d393624e43f",
              "IPY_MODEL_57f45af5e27b4331bb604b80ee0ed131"
            ],
            "layout": "IPY_MODEL_34fac66eedb24241824898f9b77fcf51"
          }
        },
        "9d12dde86c764d66ad26d1511504c157": {
          "model_module": "@jupyter-widgets/controls",
          "model_name": "HTMLModel",
          "model_module_version": "1.5.0",
          "state": {
            "_dom_classes": [],
            "_model_module": "@jupyter-widgets/controls",
            "_model_module_version": "1.5.0",
            "_model_name": "HTMLModel",
            "_view_count": null,
            "_view_module": "@jupyter-widgets/controls",
            "_view_module_version": "1.5.0",
            "_view_name": "HTMLView",
            "description": "",
            "description_tooltip": null,
            "layout": "IPY_MODEL_d3fa30cf15cc4f36bca05c026478c392",
            "placeholder": "​",
            "style": "IPY_MODEL_0baceba707204aa9a2f3bbb9312b579a",
            "value": "Downloading (…)okenizer_config.json: 100%"
          }
        },
        "514009e65afa456cbdab2d393624e43f": {
          "model_module": "@jupyter-widgets/controls",
          "model_name": "FloatProgressModel",
          "model_module_version": "1.5.0",
          "state": {
            "_dom_classes": [],
            "_model_module": "@jupyter-widgets/controls",
            "_model_module_version": "1.5.0",
            "_model_name": "FloatProgressModel",
            "_view_count": null,
            "_view_module": "@jupyter-widgets/controls",
            "_view_module_version": "1.5.0",
            "_view_name": "ProgressView",
            "bar_style": "success",
            "description": "",
            "description_tooltip": null,
            "layout": "IPY_MODEL_3e34c400e266476d9f2bdca3f7411f88",
            "max": 28,
            "min": 0,
            "orientation": "horizontal",
            "style": "IPY_MODEL_de2ea53da8d645769bafcb4cd3e84e32",
            "value": 28
          }
        },
        "57f45af5e27b4331bb604b80ee0ed131": {
          "model_module": "@jupyter-widgets/controls",
          "model_name": "HTMLModel",
          "model_module_version": "1.5.0",
          "state": {
            "_dom_classes": [],
            "_model_module": "@jupyter-widgets/controls",
            "_model_module_version": "1.5.0",
            "_model_name": "HTMLModel",
            "_view_count": null,
            "_view_module": "@jupyter-widgets/controls",
            "_view_module_version": "1.5.0",
            "_view_name": "HTMLView",
            "description": "",
            "description_tooltip": null,
            "layout": "IPY_MODEL_ba51f27a9be04c1aad8033f8efe486a5",
            "placeholder": "​",
            "style": "IPY_MODEL_ac75a4f714c64ef7a062bc27a3ac7df3",
            "value": " 28.0/28.0 [00:00&lt;00:00, 872B/s]"
          }
        },
        "34fac66eedb24241824898f9b77fcf51": {
          "model_module": "@jupyter-widgets/base",
          "model_name": "LayoutModel",
          "model_module_version": "1.2.0",
          "state": {
            "_model_module": "@jupyter-widgets/base",
            "_model_module_version": "1.2.0",
            "_model_name": "LayoutModel",
            "_view_count": null,
            "_view_module": "@jupyter-widgets/base",
            "_view_module_version": "1.2.0",
            "_view_name": "LayoutView",
            "align_content": null,
            "align_items": null,
            "align_self": null,
            "border": null,
            "bottom": null,
            "display": null,
            "flex": null,
            "flex_flow": null,
            "grid_area": null,
            "grid_auto_columns": null,
            "grid_auto_flow": null,
            "grid_auto_rows": null,
            "grid_column": null,
            "grid_gap": null,
            "grid_row": null,
            "grid_template_areas": null,
            "grid_template_columns": null,
            "grid_template_rows": null,
            "height": null,
            "justify_content": null,
            "justify_items": null,
            "left": null,
            "margin": null,
            "max_height": null,
            "max_width": null,
            "min_height": null,
            "min_width": null,
            "object_fit": null,
            "object_position": null,
            "order": null,
            "overflow": null,
            "overflow_x": null,
            "overflow_y": null,
            "padding": null,
            "right": null,
            "top": null,
            "visibility": null,
            "width": null
          }
        },
        "d3fa30cf15cc4f36bca05c026478c392": {
          "model_module": "@jupyter-widgets/base",
          "model_name": "LayoutModel",
          "model_module_version": "1.2.0",
          "state": {
            "_model_module": "@jupyter-widgets/base",
            "_model_module_version": "1.2.0",
            "_model_name": "LayoutModel",
            "_view_count": null,
            "_view_module": "@jupyter-widgets/base",
            "_view_module_version": "1.2.0",
            "_view_name": "LayoutView",
            "align_content": null,
            "align_items": null,
            "align_self": null,
            "border": null,
            "bottom": null,
            "display": null,
            "flex": null,
            "flex_flow": null,
            "grid_area": null,
            "grid_auto_columns": null,
            "grid_auto_flow": null,
            "grid_auto_rows": null,
            "grid_column": null,
            "grid_gap": null,
            "grid_row": null,
            "grid_template_areas": null,
            "grid_template_columns": null,
            "grid_template_rows": null,
            "height": null,
            "justify_content": null,
            "justify_items": null,
            "left": null,
            "margin": null,
            "max_height": null,
            "max_width": null,
            "min_height": null,
            "min_width": null,
            "object_fit": null,
            "object_position": null,
            "order": null,
            "overflow": null,
            "overflow_x": null,
            "overflow_y": null,
            "padding": null,
            "right": null,
            "top": null,
            "visibility": null,
            "width": null
          }
        },
        "0baceba707204aa9a2f3bbb9312b579a": {
          "model_module": "@jupyter-widgets/controls",
          "model_name": "DescriptionStyleModel",
          "model_module_version": "1.5.0",
          "state": {
            "_model_module": "@jupyter-widgets/controls",
            "_model_module_version": "1.5.0",
            "_model_name": "DescriptionStyleModel",
            "_view_count": null,
            "_view_module": "@jupyter-widgets/base",
            "_view_module_version": "1.2.0",
            "_view_name": "StyleView",
            "description_width": ""
          }
        },
        "3e34c400e266476d9f2bdca3f7411f88": {
          "model_module": "@jupyter-widgets/base",
          "model_name": "LayoutModel",
          "model_module_version": "1.2.0",
          "state": {
            "_model_module": "@jupyter-widgets/base",
            "_model_module_version": "1.2.0",
            "_model_name": "LayoutModel",
            "_view_count": null,
            "_view_module": "@jupyter-widgets/base",
            "_view_module_version": "1.2.0",
            "_view_name": "LayoutView",
            "align_content": null,
            "align_items": null,
            "align_self": null,
            "border": null,
            "bottom": null,
            "display": null,
            "flex": null,
            "flex_flow": null,
            "grid_area": null,
            "grid_auto_columns": null,
            "grid_auto_flow": null,
            "grid_auto_rows": null,
            "grid_column": null,
            "grid_gap": null,
            "grid_row": null,
            "grid_template_areas": null,
            "grid_template_columns": null,
            "grid_template_rows": null,
            "height": null,
            "justify_content": null,
            "justify_items": null,
            "left": null,
            "margin": null,
            "max_height": null,
            "max_width": null,
            "min_height": null,
            "min_width": null,
            "object_fit": null,
            "object_position": null,
            "order": null,
            "overflow": null,
            "overflow_x": null,
            "overflow_y": null,
            "padding": null,
            "right": null,
            "top": null,
            "visibility": null,
            "width": null
          }
        },
        "de2ea53da8d645769bafcb4cd3e84e32": {
          "model_module": "@jupyter-widgets/controls",
          "model_name": "ProgressStyleModel",
          "model_module_version": "1.5.0",
          "state": {
            "_model_module": "@jupyter-widgets/controls",
            "_model_module_version": "1.5.0",
            "_model_name": "ProgressStyleModel",
            "_view_count": null,
            "_view_module": "@jupyter-widgets/base",
            "_view_module_version": "1.2.0",
            "_view_name": "StyleView",
            "bar_color": null,
            "description_width": ""
          }
        },
        "ba51f27a9be04c1aad8033f8efe486a5": {
          "model_module": "@jupyter-widgets/base",
          "model_name": "LayoutModel",
          "model_module_version": "1.2.0",
          "state": {
            "_model_module": "@jupyter-widgets/base",
            "_model_module_version": "1.2.0",
            "_model_name": "LayoutModel",
            "_view_count": null,
            "_view_module": "@jupyter-widgets/base",
            "_view_module_version": "1.2.0",
            "_view_name": "LayoutView",
            "align_content": null,
            "align_items": null,
            "align_self": null,
            "border": null,
            "bottom": null,
            "display": null,
            "flex": null,
            "flex_flow": null,
            "grid_area": null,
            "grid_auto_columns": null,
            "grid_auto_flow": null,
            "grid_auto_rows": null,
            "grid_column": null,
            "grid_gap": null,
            "grid_row": null,
            "grid_template_areas": null,
            "grid_template_columns": null,
            "grid_template_rows": null,
            "height": null,
            "justify_content": null,
            "justify_items": null,
            "left": null,
            "margin": null,
            "max_height": null,
            "max_width": null,
            "min_height": null,
            "min_width": null,
            "object_fit": null,
            "object_position": null,
            "order": null,
            "overflow": null,
            "overflow_x": null,
            "overflow_y": null,
            "padding": null,
            "right": null,
            "top": null,
            "visibility": null,
            "width": null
          }
        },
        "ac75a4f714c64ef7a062bc27a3ac7df3": {
          "model_module": "@jupyter-widgets/controls",
          "model_name": "DescriptionStyleModel",
          "model_module_version": "1.5.0",
          "state": {
            "_model_module": "@jupyter-widgets/controls",
            "_model_module_version": "1.5.0",
            "_model_name": "DescriptionStyleModel",
            "_view_count": null,
            "_view_module": "@jupyter-widgets/base",
            "_view_module_version": "1.2.0",
            "_view_name": "StyleView",
            "description_width": ""
          }
        },
        "b0bc0fb2e1ae48968b7bec8006844485": {
          "model_module": "@jupyter-widgets/controls",
          "model_name": "HBoxModel",
          "model_module_version": "1.5.0",
          "state": {
            "_dom_classes": [],
            "_model_module": "@jupyter-widgets/controls",
            "_model_module_version": "1.5.0",
            "_model_name": "HBoxModel",
            "_view_count": null,
            "_view_module": "@jupyter-widgets/controls",
            "_view_module_version": "1.5.0",
            "_view_name": "HBoxView",
            "box_style": "",
            "children": [
              "IPY_MODEL_65ed7fb13e294c6fa3c81aaaf4f0666a",
              "IPY_MODEL_0f8b565f2ff74c029fb2c3287a3d80f0",
              "IPY_MODEL_eb907cf0cacd4e559a7e46cdd6f70563"
            ],
            "layout": "IPY_MODEL_f6ce4e62932d489088ef33fec15be768"
          }
        },
        "65ed7fb13e294c6fa3c81aaaf4f0666a": {
          "model_module": "@jupyter-widgets/controls",
          "model_name": "HTMLModel",
          "model_module_version": "1.5.0",
          "state": {
            "_dom_classes": [],
            "_model_module": "@jupyter-widgets/controls",
            "_model_module_version": "1.5.0",
            "_model_name": "HTMLModel",
            "_view_count": null,
            "_view_module": "@jupyter-widgets/controls",
            "_view_module_version": "1.5.0",
            "_view_name": "HTMLView",
            "description": "",
            "description_tooltip": null,
            "layout": "IPY_MODEL_c1009328cf3b49a09cfb6c5db6222699",
            "placeholder": "​",
            "style": "IPY_MODEL_38032f02bf9b4122823844a588a8c1ac",
            "value": "Downloading (…)solve/main/vocab.txt: 100%"
          }
        },
        "0f8b565f2ff74c029fb2c3287a3d80f0": {
          "model_module": "@jupyter-widgets/controls",
          "model_name": "FloatProgressModel",
          "model_module_version": "1.5.0",
          "state": {
            "_dom_classes": [],
            "_model_module": "@jupyter-widgets/controls",
            "_model_module_version": "1.5.0",
            "_model_name": "FloatProgressModel",
            "_view_count": null,
            "_view_module": "@jupyter-widgets/controls",
            "_view_module_version": "1.5.0",
            "_view_name": "ProgressView",
            "bar_style": "success",
            "description": "",
            "description_tooltip": null,
            "layout": "IPY_MODEL_52db1c6424ae41c399dc0f4a48c78c42",
            "max": 231508,
            "min": 0,
            "orientation": "horizontal",
            "style": "IPY_MODEL_e1d6c7b4d8094fa89847dc3a770b247f",
            "value": 231508
          }
        },
        "eb907cf0cacd4e559a7e46cdd6f70563": {
          "model_module": "@jupyter-widgets/controls",
          "model_name": "HTMLModel",
          "model_module_version": "1.5.0",
          "state": {
            "_dom_classes": [],
            "_model_module": "@jupyter-widgets/controls",
            "_model_module_version": "1.5.0",
            "_model_name": "HTMLModel",
            "_view_count": null,
            "_view_module": "@jupyter-widgets/controls",
            "_view_module_version": "1.5.0",
            "_view_name": "HTMLView",
            "description": "",
            "description_tooltip": null,
            "layout": "IPY_MODEL_624970bc7f8c487d95271bc69638d474",
            "placeholder": "​",
            "style": "IPY_MODEL_2a8c584aff89401bae4951fe6f2685a6",
            "value": " 232k/232k [00:00&lt;00:00, 2.70MB/s]"
          }
        },
        "f6ce4e62932d489088ef33fec15be768": {
          "model_module": "@jupyter-widgets/base",
          "model_name": "LayoutModel",
          "model_module_version": "1.2.0",
          "state": {
            "_model_module": "@jupyter-widgets/base",
            "_model_module_version": "1.2.0",
            "_model_name": "LayoutModel",
            "_view_count": null,
            "_view_module": "@jupyter-widgets/base",
            "_view_module_version": "1.2.0",
            "_view_name": "LayoutView",
            "align_content": null,
            "align_items": null,
            "align_self": null,
            "border": null,
            "bottom": null,
            "display": null,
            "flex": null,
            "flex_flow": null,
            "grid_area": null,
            "grid_auto_columns": null,
            "grid_auto_flow": null,
            "grid_auto_rows": null,
            "grid_column": null,
            "grid_gap": null,
            "grid_row": null,
            "grid_template_areas": null,
            "grid_template_columns": null,
            "grid_template_rows": null,
            "height": null,
            "justify_content": null,
            "justify_items": null,
            "left": null,
            "margin": null,
            "max_height": null,
            "max_width": null,
            "min_height": null,
            "min_width": null,
            "object_fit": null,
            "object_position": null,
            "order": null,
            "overflow": null,
            "overflow_x": null,
            "overflow_y": null,
            "padding": null,
            "right": null,
            "top": null,
            "visibility": null,
            "width": null
          }
        },
        "c1009328cf3b49a09cfb6c5db6222699": {
          "model_module": "@jupyter-widgets/base",
          "model_name": "LayoutModel",
          "model_module_version": "1.2.0",
          "state": {
            "_model_module": "@jupyter-widgets/base",
            "_model_module_version": "1.2.0",
            "_model_name": "LayoutModel",
            "_view_count": null,
            "_view_module": "@jupyter-widgets/base",
            "_view_module_version": "1.2.0",
            "_view_name": "LayoutView",
            "align_content": null,
            "align_items": null,
            "align_self": null,
            "border": null,
            "bottom": null,
            "display": null,
            "flex": null,
            "flex_flow": null,
            "grid_area": null,
            "grid_auto_columns": null,
            "grid_auto_flow": null,
            "grid_auto_rows": null,
            "grid_column": null,
            "grid_gap": null,
            "grid_row": null,
            "grid_template_areas": null,
            "grid_template_columns": null,
            "grid_template_rows": null,
            "height": null,
            "justify_content": null,
            "justify_items": null,
            "left": null,
            "margin": null,
            "max_height": null,
            "max_width": null,
            "min_height": null,
            "min_width": null,
            "object_fit": null,
            "object_position": null,
            "order": null,
            "overflow": null,
            "overflow_x": null,
            "overflow_y": null,
            "padding": null,
            "right": null,
            "top": null,
            "visibility": null,
            "width": null
          }
        },
        "38032f02bf9b4122823844a588a8c1ac": {
          "model_module": "@jupyter-widgets/controls",
          "model_name": "DescriptionStyleModel",
          "model_module_version": "1.5.0",
          "state": {
            "_model_module": "@jupyter-widgets/controls",
            "_model_module_version": "1.5.0",
            "_model_name": "DescriptionStyleModel",
            "_view_count": null,
            "_view_module": "@jupyter-widgets/base",
            "_view_module_version": "1.2.0",
            "_view_name": "StyleView",
            "description_width": ""
          }
        },
        "52db1c6424ae41c399dc0f4a48c78c42": {
          "model_module": "@jupyter-widgets/base",
          "model_name": "LayoutModel",
          "model_module_version": "1.2.0",
          "state": {
            "_model_module": "@jupyter-widgets/base",
            "_model_module_version": "1.2.0",
            "_model_name": "LayoutModel",
            "_view_count": null,
            "_view_module": "@jupyter-widgets/base",
            "_view_module_version": "1.2.0",
            "_view_name": "LayoutView",
            "align_content": null,
            "align_items": null,
            "align_self": null,
            "border": null,
            "bottom": null,
            "display": null,
            "flex": null,
            "flex_flow": null,
            "grid_area": null,
            "grid_auto_columns": null,
            "grid_auto_flow": null,
            "grid_auto_rows": null,
            "grid_column": null,
            "grid_gap": null,
            "grid_row": null,
            "grid_template_areas": null,
            "grid_template_columns": null,
            "grid_template_rows": null,
            "height": null,
            "justify_content": null,
            "justify_items": null,
            "left": null,
            "margin": null,
            "max_height": null,
            "max_width": null,
            "min_height": null,
            "min_width": null,
            "object_fit": null,
            "object_position": null,
            "order": null,
            "overflow": null,
            "overflow_x": null,
            "overflow_y": null,
            "padding": null,
            "right": null,
            "top": null,
            "visibility": null,
            "width": null
          }
        },
        "e1d6c7b4d8094fa89847dc3a770b247f": {
          "model_module": "@jupyter-widgets/controls",
          "model_name": "ProgressStyleModel",
          "model_module_version": "1.5.0",
          "state": {
            "_model_module": "@jupyter-widgets/controls",
            "_model_module_version": "1.5.0",
            "_model_name": "ProgressStyleModel",
            "_view_count": null,
            "_view_module": "@jupyter-widgets/base",
            "_view_module_version": "1.2.0",
            "_view_name": "StyleView",
            "bar_color": null,
            "description_width": ""
          }
        },
        "624970bc7f8c487d95271bc69638d474": {
          "model_module": "@jupyter-widgets/base",
          "model_name": "LayoutModel",
          "model_module_version": "1.2.0",
          "state": {
            "_model_module": "@jupyter-widgets/base",
            "_model_module_version": "1.2.0",
            "_model_name": "LayoutModel",
            "_view_count": null,
            "_view_module": "@jupyter-widgets/base",
            "_view_module_version": "1.2.0",
            "_view_name": "LayoutView",
            "align_content": null,
            "align_items": null,
            "align_self": null,
            "border": null,
            "bottom": null,
            "display": null,
            "flex": null,
            "flex_flow": null,
            "grid_area": null,
            "grid_auto_columns": null,
            "grid_auto_flow": null,
            "grid_auto_rows": null,
            "grid_column": null,
            "grid_gap": null,
            "grid_row": null,
            "grid_template_areas": null,
            "grid_template_columns": null,
            "grid_template_rows": null,
            "height": null,
            "justify_content": null,
            "justify_items": null,
            "left": null,
            "margin": null,
            "max_height": null,
            "max_width": null,
            "min_height": null,
            "min_width": null,
            "object_fit": null,
            "object_position": null,
            "order": null,
            "overflow": null,
            "overflow_x": null,
            "overflow_y": null,
            "padding": null,
            "right": null,
            "top": null,
            "visibility": null,
            "width": null
          }
        },
        "2a8c584aff89401bae4951fe6f2685a6": {
          "model_module": "@jupyter-widgets/controls",
          "model_name": "DescriptionStyleModel",
          "model_module_version": "1.5.0",
          "state": {
            "_model_module": "@jupyter-widgets/controls",
            "_model_module_version": "1.5.0",
            "_model_name": "DescriptionStyleModel",
            "_view_count": null,
            "_view_module": "@jupyter-widgets/base",
            "_view_module_version": "1.2.0",
            "_view_name": "StyleView",
            "description_width": ""
          }
        },
        "73013bb32426495e8bbcfeb7c7a31b2f": {
          "model_module": "@jupyter-widgets/controls",
          "model_name": "HBoxModel",
          "model_module_version": "1.5.0",
          "state": {
            "_dom_classes": [],
            "_model_module": "@jupyter-widgets/controls",
            "_model_module_version": "1.5.0",
            "_model_name": "HBoxModel",
            "_view_count": null,
            "_view_module": "@jupyter-widgets/controls",
            "_view_module_version": "1.5.0",
            "_view_name": "HBoxView",
            "box_style": "",
            "children": [
              "IPY_MODEL_c364f5cfe67441638118d66d6b31824f",
              "IPY_MODEL_7a94678b9c1d46feb5e5449b54c11486",
              "IPY_MODEL_0f4b5bad3116473090bd8163070cdb2a"
            ],
            "layout": "IPY_MODEL_02e1ea4e5dfa445f8917f52fb815829d"
          }
        },
        "c364f5cfe67441638118d66d6b31824f": {
          "model_module": "@jupyter-widgets/controls",
          "model_name": "HTMLModel",
          "model_module_version": "1.5.0",
          "state": {
            "_dom_classes": [],
            "_model_module": "@jupyter-widgets/controls",
            "_model_module_version": "1.5.0",
            "_model_name": "HTMLModel",
            "_view_count": null,
            "_view_module": "@jupyter-widgets/controls",
            "_view_module_version": "1.5.0",
            "_view_name": "HTMLView",
            "description": "",
            "description_tooltip": null,
            "layout": "IPY_MODEL_ab20cb9541b340568849367afa53789b",
            "placeholder": "​",
            "style": "IPY_MODEL_f930096fd27747909fc0f119a8b43b6e",
            "value": "Downloading (…)/main/tokenizer.json: 100%"
          }
        },
        "7a94678b9c1d46feb5e5449b54c11486": {
          "model_module": "@jupyter-widgets/controls",
          "model_name": "FloatProgressModel",
          "model_module_version": "1.5.0",
          "state": {
            "_dom_classes": [],
            "_model_module": "@jupyter-widgets/controls",
            "_model_module_version": "1.5.0",
            "_model_name": "FloatProgressModel",
            "_view_count": null,
            "_view_module": "@jupyter-widgets/controls",
            "_view_module_version": "1.5.0",
            "_view_name": "ProgressView",
            "bar_style": "success",
            "description": "",
            "description_tooltip": null,
            "layout": "IPY_MODEL_8133ca1161bf4397b51d84193385fbe1",
            "max": 466062,
            "min": 0,
            "orientation": "horizontal",
            "style": "IPY_MODEL_92717cd6b51a40189bc10fc1c7ef981b",
            "value": 466062
          }
        },
        "0f4b5bad3116473090bd8163070cdb2a": {
          "model_module": "@jupyter-widgets/controls",
          "model_name": "HTMLModel",
          "model_module_version": "1.5.0",
          "state": {
            "_dom_classes": [],
            "_model_module": "@jupyter-widgets/controls",
            "_model_module_version": "1.5.0",
            "_model_name": "HTMLModel",
            "_view_count": null,
            "_view_module": "@jupyter-widgets/controls",
            "_view_module_version": "1.5.0",
            "_view_name": "HTMLView",
            "description": "",
            "description_tooltip": null,
            "layout": "IPY_MODEL_336f078fbce3432990975b5cc975d018",
            "placeholder": "​",
            "style": "IPY_MODEL_d86fcd2114c245b0895df6d64d48d60c",
            "value": " 466k/466k [00:00&lt;00:00, 2.62MB/s]"
          }
        },
        "02e1ea4e5dfa445f8917f52fb815829d": {
          "model_module": "@jupyter-widgets/base",
          "model_name": "LayoutModel",
          "model_module_version": "1.2.0",
          "state": {
            "_model_module": "@jupyter-widgets/base",
            "_model_module_version": "1.2.0",
            "_model_name": "LayoutModel",
            "_view_count": null,
            "_view_module": "@jupyter-widgets/base",
            "_view_module_version": "1.2.0",
            "_view_name": "LayoutView",
            "align_content": null,
            "align_items": null,
            "align_self": null,
            "border": null,
            "bottom": null,
            "display": null,
            "flex": null,
            "flex_flow": null,
            "grid_area": null,
            "grid_auto_columns": null,
            "grid_auto_flow": null,
            "grid_auto_rows": null,
            "grid_column": null,
            "grid_gap": null,
            "grid_row": null,
            "grid_template_areas": null,
            "grid_template_columns": null,
            "grid_template_rows": null,
            "height": null,
            "justify_content": null,
            "justify_items": null,
            "left": null,
            "margin": null,
            "max_height": null,
            "max_width": null,
            "min_height": null,
            "min_width": null,
            "object_fit": null,
            "object_position": null,
            "order": null,
            "overflow": null,
            "overflow_x": null,
            "overflow_y": null,
            "padding": null,
            "right": null,
            "top": null,
            "visibility": null,
            "width": null
          }
        },
        "ab20cb9541b340568849367afa53789b": {
          "model_module": "@jupyter-widgets/base",
          "model_name": "LayoutModel",
          "model_module_version": "1.2.0",
          "state": {
            "_model_module": "@jupyter-widgets/base",
            "_model_module_version": "1.2.0",
            "_model_name": "LayoutModel",
            "_view_count": null,
            "_view_module": "@jupyter-widgets/base",
            "_view_module_version": "1.2.0",
            "_view_name": "LayoutView",
            "align_content": null,
            "align_items": null,
            "align_self": null,
            "border": null,
            "bottom": null,
            "display": null,
            "flex": null,
            "flex_flow": null,
            "grid_area": null,
            "grid_auto_columns": null,
            "grid_auto_flow": null,
            "grid_auto_rows": null,
            "grid_column": null,
            "grid_gap": null,
            "grid_row": null,
            "grid_template_areas": null,
            "grid_template_columns": null,
            "grid_template_rows": null,
            "height": null,
            "justify_content": null,
            "justify_items": null,
            "left": null,
            "margin": null,
            "max_height": null,
            "max_width": null,
            "min_height": null,
            "min_width": null,
            "object_fit": null,
            "object_position": null,
            "order": null,
            "overflow": null,
            "overflow_x": null,
            "overflow_y": null,
            "padding": null,
            "right": null,
            "top": null,
            "visibility": null,
            "width": null
          }
        },
        "f930096fd27747909fc0f119a8b43b6e": {
          "model_module": "@jupyter-widgets/controls",
          "model_name": "DescriptionStyleModel",
          "model_module_version": "1.5.0",
          "state": {
            "_model_module": "@jupyter-widgets/controls",
            "_model_module_version": "1.5.0",
            "_model_name": "DescriptionStyleModel",
            "_view_count": null,
            "_view_module": "@jupyter-widgets/base",
            "_view_module_version": "1.2.0",
            "_view_name": "StyleView",
            "description_width": ""
          }
        },
        "8133ca1161bf4397b51d84193385fbe1": {
          "model_module": "@jupyter-widgets/base",
          "model_name": "LayoutModel",
          "model_module_version": "1.2.0",
          "state": {
            "_model_module": "@jupyter-widgets/base",
            "_model_module_version": "1.2.0",
            "_model_name": "LayoutModel",
            "_view_count": null,
            "_view_module": "@jupyter-widgets/base",
            "_view_module_version": "1.2.0",
            "_view_name": "LayoutView",
            "align_content": null,
            "align_items": null,
            "align_self": null,
            "border": null,
            "bottom": null,
            "display": null,
            "flex": null,
            "flex_flow": null,
            "grid_area": null,
            "grid_auto_columns": null,
            "grid_auto_flow": null,
            "grid_auto_rows": null,
            "grid_column": null,
            "grid_gap": null,
            "grid_row": null,
            "grid_template_areas": null,
            "grid_template_columns": null,
            "grid_template_rows": null,
            "height": null,
            "justify_content": null,
            "justify_items": null,
            "left": null,
            "margin": null,
            "max_height": null,
            "max_width": null,
            "min_height": null,
            "min_width": null,
            "object_fit": null,
            "object_position": null,
            "order": null,
            "overflow": null,
            "overflow_x": null,
            "overflow_y": null,
            "padding": null,
            "right": null,
            "top": null,
            "visibility": null,
            "width": null
          }
        },
        "92717cd6b51a40189bc10fc1c7ef981b": {
          "model_module": "@jupyter-widgets/controls",
          "model_name": "ProgressStyleModel",
          "model_module_version": "1.5.0",
          "state": {
            "_model_module": "@jupyter-widgets/controls",
            "_model_module_version": "1.5.0",
            "_model_name": "ProgressStyleModel",
            "_view_count": null,
            "_view_module": "@jupyter-widgets/base",
            "_view_module_version": "1.2.0",
            "_view_name": "StyleView",
            "bar_color": null,
            "description_width": ""
          }
        },
        "336f078fbce3432990975b5cc975d018": {
          "model_module": "@jupyter-widgets/base",
          "model_name": "LayoutModel",
          "model_module_version": "1.2.0",
          "state": {
            "_model_module": "@jupyter-widgets/base",
            "_model_module_version": "1.2.0",
            "_model_name": "LayoutModel",
            "_view_count": null,
            "_view_module": "@jupyter-widgets/base",
            "_view_module_version": "1.2.0",
            "_view_name": "LayoutView",
            "align_content": null,
            "align_items": null,
            "align_self": null,
            "border": null,
            "bottom": null,
            "display": null,
            "flex": null,
            "flex_flow": null,
            "grid_area": null,
            "grid_auto_columns": null,
            "grid_auto_flow": null,
            "grid_auto_rows": null,
            "grid_column": null,
            "grid_gap": null,
            "grid_row": null,
            "grid_template_areas": null,
            "grid_template_columns": null,
            "grid_template_rows": null,
            "height": null,
            "justify_content": null,
            "justify_items": null,
            "left": null,
            "margin": null,
            "max_height": null,
            "max_width": null,
            "min_height": null,
            "min_width": null,
            "object_fit": null,
            "object_position": null,
            "order": null,
            "overflow": null,
            "overflow_x": null,
            "overflow_y": null,
            "padding": null,
            "right": null,
            "top": null,
            "visibility": null,
            "width": null
          }
        },
        "d86fcd2114c245b0895df6d64d48d60c": {
          "model_module": "@jupyter-widgets/controls",
          "model_name": "DescriptionStyleModel",
          "model_module_version": "1.5.0",
          "state": {
            "_model_module": "@jupyter-widgets/controls",
            "_model_module_version": "1.5.0",
            "_model_name": "DescriptionStyleModel",
            "_view_count": null,
            "_view_module": "@jupyter-widgets/base",
            "_view_module_version": "1.2.0",
            "_view_name": "StyleView",
            "description_width": ""
          }
        },
        "c7796597be13483e83e3017b0ec5bb65": {
          "model_module": "@jupyter-widgets/controls",
          "model_name": "HBoxModel",
          "model_module_version": "1.5.0",
          "state": {
            "_dom_classes": [],
            "_model_module": "@jupyter-widgets/controls",
            "_model_module_version": "1.5.0",
            "_model_name": "HBoxModel",
            "_view_count": null,
            "_view_module": "@jupyter-widgets/controls",
            "_view_module_version": "1.5.0",
            "_view_name": "HBoxView",
            "box_style": "",
            "children": [
              "IPY_MODEL_f5336ec024a743d19bd9861bf95a3d61",
              "IPY_MODEL_bce799a6ea31431d9814db38028b9797",
              "IPY_MODEL_0fb55e83861f43a18cf70853d2f8c81e"
            ],
            "layout": "IPY_MODEL_2ffef6fdd169434fbfcc340f39377fc3"
          }
        },
        "f5336ec024a743d19bd9861bf95a3d61": {
          "model_module": "@jupyter-widgets/controls",
          "model_name": "HTMLModel",
          "model_module_version": "1.5.0",
          "state": {
            "_dom_classes": [],
            "_model_module": "@jupyter-widgets/controls",
            "_model_module_version": "1.5.0",
            "_model_name": "HTMLModel",
            "_view_count": null,
            "_view_module": "@jupyter-widgets/controls",
            "_view_module_version": "1.5.0",
            "_view_name": "HTMLView",
            "description": "",
            "description_tooltip": null,
            "layout": "IPY_MODEL_8bf44daa946e4d788cdb8695034009ac",
            "placeholder": "​",
            "style": "IPY_MODEL_be26c3a97ee441d08d79b0afb14053b9",
            "value": "Downloading (…)lve/main/config.json: 100%"
          }
        },
        "bce799a6ea31431d9814db38028b9797": {
          "model_module": "@jupyter-widgets/controls",
          "model_name": "FloatProgressModel",
          "model_module_version": "1.5.0",
          "state": {
            "_dom_classes": [],
            "_model_module": "@jupyter-widgets/controls",
            "_model_module_version": "1.5.0",
            "_model_name": "FloatProgressModel",
            "_view_count": null,
            "_view_module": "@jupyter-widgets/controls",
            "_view_module_version": "1.5.0",
            "_view_name": "ProgressView",
            "bar_style": "success",
            "description": "",
            "description_tooltip": null,
            "layout": "IPY_MODEL_db8d8dadfdc840f2918efe678ce770b7",
            "max": 483,
            "min": 0,
            "orientation": "horizontal",
            "style": "IPY_MODEL_256d38f3bb0e44c198906d79fee10355",
            "value": 483
          }
        },
        "0fb55e83861f43a18cf70853d2f8c81e": {
          "model_module": "@jupyter-widgets/controls",
          "model_name": "HTMLModel",
          "model_module_version": "1.5.0",
          "state": {
            "_dom_classes": [],
            "_model_module": "@jupyter-widgets/controls",
            "_model_module_version": "1.5.0",
            "_model_name": "HTMLModel",
            "_view_count": null,
            "_view_module": "@jupyter-widgets/controls",
            "_view_module_version": "1.5.0",
            "_view_name": "HTMLView",
            "description": "",
            "description_tooltip": null,
            "layout": "IPY_MODEL_cbfb7e3404f64be290366534886dfa72",
            "placeholder": "​",
            "style": "IPY_MODEL_f879345b79fb4f3aa858bb71b4729245",
            "value": " 483/483 [00:00&lt;00:00, 13.6kB/s]"
          }
        },
        "2ffef6fdd169434fbfcc340f39377fc3": {
          "model_module": "@jupyter-widgets/base",
          "model_name": "LayoutModel",
          "model_module_version": "1.2.0",
          "state": {
            "_model_module": "@jupyter-widgets/base",
            "_model_module_version": "1.2.0",
            "_model_name": "LayoutModel",
            "_view_count": null,
            "_view_module": "@jupyter-widgets/base",
            "_view_module_version": "1.2.0",
            "_view_name": "LayoutView",
            "align_content": null,
            "align_items": null,
            "align_self": null,
            "border": null,
            "bottom": null,
            "display": null,
            "flex": null,
            "flex_flow": null,
            "grid_area": null,
            "grid_auto_columns": null,
            "grid_auto_flow": null,
            "grid_auto_rows": null,
            "grid_column": null,
            "grid_gap": null,
            "grid_row": null,
            "grid_template_areas": null,
            "grid_template_columns": null,
            "grid_template_rows": null,
            "height": null,
            "justify_content": null,
            "justify_items": null,
            "left": null,
            "margin": null,
            "max_height": null,
            "max_width": null,
            "min_height": null,
            "min_width": null,
            "object_fit": null,
            "object_position": null,
            "order": null,
            "overflow": null,
            "overflow_x": null,
            "overflow_y": null,
            "padding": null,
            "right": null,
            "top": null,
            "visibility": null,
            "width": null
          }
        },
        "8bf44daa946e4d788cdb8695034009ac": {
          "model_module": "@jupyter-widgets/base",
          "model_name": "LayoutModel",
          "model_module_version": "1.2.0",
          "state": {
            "_model_module": "@jupyter-widgets/base",
            "_model_module_version": "1.2.0",
            "_model_name": "LayoutModel",
            "_view_count": null,
            "_view_module": "@jupyter-widgets/base",
            "_view_module_version": "1.2.0",
            "_view_name": "LayoutView",
            "align_content": null,
            "align_items": null,
            "align_self": null,
            "border": null,
            "bottom": null,
            "display": null,
            "flex": null,
            "flex_flow": null,
            "grid_area": null,
            "grid_auto_columns": null,
            "grid_auto_flow": null,
            "grid_auto_rows": null,
            "grid_column": null,
            "grid_gap": null,
            "grid_row": null,
            "grid_template_areas": null,
            "grid_template_columns": null,
            "grid_template_rows": null,
            "height": null,
            "justify_content": null,
            "justify_items": null,
            "left": null,
            "margin": null,
            "max_height": null,
            "max_width": null,
            "min_height": null,
            "min_width": null,
            "object_fit": null,
            "object_position": null,
            "order": null,
            "overflow": null,
            "overflow_x": null,
            "overflow_y": null,
            "padding": null,
            "right": null,
            "top": null,
            "visibility": null,
            "width": null
          }
        },
        "be26c3a97ee441d08d79b0afb14053b9": {
          "model_module": "@jupyter-widgets/controls",
          "model_name": "DescriptionStyleModel",
          "model_module_version": "1.5.0",
          "state": {
            "_model_module": "@jupyter-widgets/controls",
            "_model_module_version": "1.5.0",
            "_model_name": "DescriptionStyleModel",
            "_view_count": null,
            "_view_module": "@jupyter-widgets/base",
            "_view_module_version": "1.2.0",
            "_view_name": "StyleView",
            "description_width": ""
          }
        },
        "db8d8dadfdc840f2918efe678ce770b7": {
          "model_module": "@jupyter-widgets/base",
          "model_name": "LayoutModel",
          "model_module_version": "1.2.0",
          "state": {
            "_model_module": "@jupyter-widgets/base",
            "_model_module_version": "1.2.0",
            "_model_name": "LayoutModel",
            "_view_count": null,
            "_view_module": "@jupyter-widgets/base",
            "_view_module_version": "1.2.0",
            "_view_name": "LayoutView",
            "align_content": null,
            "align_items": null,
            "align_self": null,
            "border": null,
            "bottom": null,
            "display": null,
            "flex": null,
            "flex_flow": null,
            "grid_area": null,
            "grid_auto_columns": null,
            "grid_auto_flow": null,
            "grid_auto_rows": null,
            "grid_column": null,
            "grid_gap": null,
            "grid_row": null,
            "grid_template_areas": null,
            "grid_template_columns": null,
            "grid_template_rows": null,
            "height": null,
            "justify_content": null,
            "justify_items": null,
            "left": null,
            "margin": null,
            "max_height": null,
            "max_width": null,
            "min_height": null,
            "min_width": null,
            "object_fit": null,
            "object_position": null,
            "order": null,
            "overflow": null,
            "overflow_x": null,
            "overflow_y": null,
            "padding": null,
            "right": null,
            "top": null,
            "visibility": null,
            "width": null
          }
        },
        "256d38f3bb0e44c198906d79fee10355": {
          "model_module": "@jupyter-widgets/controls",
          "model_name": "ProgressStyleModel",
          "model_module_version": "1.5.0",
          "state": {
            "_model_module": "@jupyter-widgets/controls",
            "_model_module_version": "1.5.0",
            "_model_name": "ProgressStyleModel",
            "_view_count": null,
            "_view_module": "@jupyter-widgets/base",
            "_view_module_version": "1.2.0",
            "_view_name": "StyleView",
            "bar_color": null,
            "description_width": ""
          }
        },
        "cbfb7e3404f64be290366534886dfa72": {
          "model_module": "@jupyter-widgets/base",
          "model_name": "LayoutModel",
          "model_module_version": "1.2.0",
          "state": {
            "_model_module": "@jupyter-widgets/base",
            "_model_module_version": "1.2.0",
            "_model_name": "LayoutModel",
            "_view_count": null,
            "_view_module": "@jupyter-widgets/base",
            "_view_module_version": "1.2.0",
            "_view_name": "LayoutView",
            "align_content": null,
            "align_items": null,
            "align_self": null,
            "border": null,
            "bottom": null,
            "display": null,
            "flex": null,
            "flex_flow": null,
            "grid_area": null,
            "grid_auto_columns": null,
            "grid_auto_flow": null,
            "grid_auto_rows": null,
            "grid_column": null,
            "grid_gap": null,
            "grid_row": null,
            "grid_template_areas": null,
            "grid_template_columns": null,
            "grid_template_rows": null,
            "height": null,
            "justify_content": null,
            "justify_items": null,
            "left": null,
            "margin": null,
            "max_height": null,
            "max_width": null,
            "min_height": null,
            "min_width": null,
            "object_fit": null,
            "object_position": null,
            "order": null,
            "overflow": null,
            "overflow_x": null,
            "overflow_y": null,
            "padding": null,
            "right": null,
            "top": null,
            "visibility": null,
            "width": null
          }
        },
        "f879345b79fb4f3aa858bb71b4729245": {
          "model_module": "@jupyter-widgets/controls",
          "model_name": "DescriptionStyleModel",
          "model_module_version": "1.5.0",
          "state": {
            "_model_module": "@jupyter-widgets/controls",
            "_model_module_version": "1.5.0",
            "_model_name": "DescriptionStyleModel",
            "_view_count": null,
            "_view_module": "@jupyter-widgets/base",
            "_view_module_version": "1.2.0",
            "_view_name": "StyleView",
            "description_width": ""
          }
        },
        "09fef7b1cb404211806194b6729e626d": {
          "model_module": "@jupyter-widgets/controls",
          "model_name": "HBoxModel",
          "model_module_version": "1.5.0",
          "state": {
            "_dom_classes": [],
            "_model_module": "@jupyter-widgets/controls",
            "_model_module_version": "1.5.0",
            "_model_name": "HBoxModel",
            "_view_count": null,
            "_view_module": "@jupyter-widgets/controls",
            "_view_module_version": "1.5.0",
            "_view_name": "HBoxView",
            "box_style": "",
            "children": [
              "IPY_MODEL_f121fe423d8840918bb153b43b391ee8",
              "IPY_MODEL_a0522c7507354a22b010a59eac90dc24",
              "IPY_MODEL_e74cb470ba85400c80654598e1f7be0b"
            ],
            "layout": "IPY_MODEL_6dc7557005bf448b89335e58e5610023"
          }
        },
        "f121fe423d8840918bb153b43b391ee8": {
          "model_module": "@jupyter-widgets/controls",
          "model_name": "HTMLModel",
          "model_module_version": "1.5.0",
          "state": {
            "_dom_classes": [],
            "_model_module": "@jupyter-widgets/controls",
            "_model_module_version": "1.5.0",
            "_model_name": "HTMLModel",
            "_view_count": null,
            "_view_module": "@jupyter-widgets/controls",
            "_view_module_version": "1.5.0",
            "_view_name": "HTMLView",
            "description": "",
            "description_tooltip": null,
            "layout": "IPY_MODEL_3ca2045da27d4b83b7e561bfa9dccad4",
            "placeholder": "​",
            "style": "IPY_MODEL_7ad064724e8c4cf3821c74590871b746",
            "value": "Downloading pytorch_model.bin: 100%"
          }
        },
        "a0522c7507354a22b010a59eac90dc24": {
          "model_module": "@jupyter-widgets/controls",
          "model_name": "FloatProgressModel",
          "model_module_version": "1.5.0",
          "state": {
            "_dom_classes": [],
            "_model_module": "@jupyter-widgets/controls",
            "_model_module_version": "1.5.0",
            "_model_name": "FloatProgressModel",
            "_view_count": null,
            "_view_module": "@jupyter-widgets/controls",
            "_view_module_version": "1.5.0",
            "_view_name": "ProgressView",
            "bar_style": "success",
            "description": "",
            "description_tooltip": null,
            "layout": "IPY_MODEL_b029367be2524f07be150d1e2bc316a5",
            "max": 267967963,
            "min": 0,
            "orientation": "horizontal",
            "style": "IPY_MODEL_72a26a554eaf4a6fa4b8c4b621a00dab",
            "value": 267967963
          }
        },
        "e74cb470ba85400c80654598e1f7be0b": {
          "model_module": "@jupyter-widgets/controls",
          "model_name": "HTMLModel",
          "model_module_version": "1.5.0",
          "state": {
            "_dom_classes": [],
            "_model_module": "@jupyter-widgets/controls",
            "_model_module_version": "1.5.0",
            "_model_name": "HTMLModel",
            "_view_count": null,
            "_view_module": "@jupyter-widgets/controls",
            "_view_module_version": "1.5.0",
            "_view_name": "HTMLView",
            "description": "",
            "description_tooltip": null,
            "layout": "IPY_MODEL_8f6d106cbf3947e1aec9b06a4dbb3ca5",
            "placeholder": "​",
            "style": "IPY_MODEL_bd49a4d0fbbf4e04bbc49306b664605b",
            "value": " 268M/268M [00:03&lt;00:00, 72.3MB/s]"
          }
        },
        "6dc7557005bf448b89335e58e5610023": {
          "model_module": "@jupyter-widgets/base",
          "model_name": "LayoutModel",
          "model_module_version": "1.2.0",
          "state": {
            "_model_module": "@jupyter-widgets/base",
            "_model_module_version": "1.2.0",
            "_model_name": "LayoutModel",
            "_view_count": null,
            "_view_module": "@jupyter-widgets/base",
            "_view_module_version": "1.2.0",
            "_view_name": "LayoutView",
            "align_content": null,
            "align_items": null,
            "align_self": null,
            "border": null,
            "bottom": null,
            "display": null,
            "flex": null,
            "flex_flow": null,
            "grid_area": null,
            "grid_auto_columns": null,
            "grid_auto_flow": null,
            "grid_auto_rows": null,
            "grid_column": null,
            "grid_gap": null,
            "grid_row": null,
            "grid_template_areas": null,
            "grid_template_columns": null,
            "grid_template_rows": null,
            "height": null,
            "justify_content": null,
            "justify_items": null,
            "left": null,
            "margin": null,
            "max_height": null,
            "max_width": null,
            "min_height": null,
            "min_width": null,
            "object_fit": null,
            "object_position": null,
            "order": null,
            "overflow": null,
            "overflow_x": null,
            "overflow_y": null,
            "padding": null,
            "right": null,
            "top": null,
            "visibility": null,
            "width": null
          }
        },
        "3ca2045da27d4b83b7e561bfa9dccad4": {
          "model_module": "@jupyter-widgets/base",
          "model_name": "LayoutModel",
          "model_module_version": "1.2.0",
          "state": {
            "_model_module": "@jupyter-widgets/base",
            "_model_module_version": "1.2.0",
            "_model_name": "LayoutModel",
            "_view_count": null,
            "_view_module": "@jupyter-widgets/base",
            "_view_module_version": "1.2.0",
            "_view_name": "LayoutView",
            "align_content": null,
            "align_items": null,
            "align_self": null,
            "border": null,
            "bottom": null,
            "display": null,
            "flex": null,
            "flex_flow": null,
            "grid_area": null,
            "grid_auto_columns": null,
            "grid_auto_flow": null,
            "grid_auto_rows": null,
            "grid_column": null,
            "grid_gap": null,
            "grid_row": null,
            "grid_template_areas": null,
            "grid_template_columns": null,
            "grid_template_rows": null,
            "height": null,
            "justify_content": null,
            "justify_items": null,
            "left": null,
            "margin": null,
            "max_height": null,
            "max_width": null,
            "min_height": null,
            "min_width": null,
            "object_fit": null,
            "object_position": null,
            "order": null,
            "overflow": null,
            "overflow_x": null,
            "overflow_y": null,
            "padding": null,
            "right": null,
            "top": null,
            "visibility": null,
            "width": null
          }
        },
        "7ad064724e8c4cf3821c74590871b746": {
          "model_module": "@jupyter-widgets/controls",
          "model_name": "DescriptionStyleModel",
          "model_module_version": "1.5.0",
          "state": {
            "_model_module": "@jupyter-widgets/controls",
            "_model_module_version": "1.5.0",
            "_model_name": "DescriptionStyleModel",
            "_view_count": null,
            "_view_module": "@jupyter-widgets/base",
            "_view_module_version": "1.2.0",
            "_view_name": "StyleView",
            "description_width": ""
          }
        },
        "b029367be2524f07be150d1e2bc316a5": {
          "model_module": "@jupyter-widgets/base",
          "model_name": "LayoutModel",
          "model_module_version": "1.2.0",
          "state": {
            "_model_module": "@jupyter-widgets/base",
            "_model_module_version": "1.2.0",
            "_model_name": "LayoutModel",
            "_view_count": null,
            "_view_module": "@jupyter-widgets/base",
            "_view_module_version": "1.2.0",
            "_view_name": "LayoutView",
            "align_content": null,
            "align_items": null,
            "align_self": null,
            "border": null,
            "bottom": null,
            "display": null,
            "flex": null,
            "flex_flow": null,
            "grid_area": null,
            "grid_auto_columns": null,
            "grid_auto_flow": null,
            "grid_auto_rows": null,
            "grid_column": null,
            "grid_gap": null,
            "grid_row": null,
            "grid_template_areas": null,
            "grid_template_columns": null,
            "grid_template_rows": null,
            "height": null,
            "justify_content": null,
            "justify_items": null,
            "left": null,
            "margin": null,
            "max_height": null,
            "max_width": null,
            "min_height": null,
            "min_width": null,
            "object_fit": null,
            "object_position": null,
            "order": null,
            "overflow": null,
            "overflow_x": null,
            "overflow_y": null,
            "padding": null,
            "right": null,
            "top": null,
            "visibility": null,
            "width": null
          }
        },
        "72a26a554eaf4a6fa4b8c4b621a00dab": {
          "model_module": "@jupyter-widgets/controls",
          "model_name": "ProgressStyleModel",
          "model_module_version": "1.5.0",
          "state": {
            "_model_module": "@jupyter-widgets/controls",
            "_model_module_version": "1.5.0",
            "_model_name": "ProgressStyleModel",
            "_view_count": null,
            "_view_module": "@jupyter-widgets/base",
            "_view_module_version": "1.2.0",
            "_view_name": "StyleView",
            "bar_color": null,
            "description_width": ""
          }
        },
        "8f6d106cbf3947e1aec9b06a4dbb3ca5": {
          "model_module": "@jupyter-widgets/base",
          "model_name": "LayoutModel",
          "model_module_version": "1.2.0",
          "state": {
            "_model_module": "@jupyter-widgets/base",
            "_model_module_version": "1.2.0",
            "_model_name": "LayoutModel",
            "_view_count": null,
            "_view_module": "@jupyter-widgets/base",
            "_view_module_version": "1.2.0",
            "_view_name": "LayoutView",
            "align_content": null,
            "align_items": null,
            "align_self": null,
            "border": null,
            "bottom": null,
            "display": null,
            "flex": null,
            "flex_flow": null,
            "grid_area": null,
            "grid_auto_columns": null,
            "grid_auto_flow": null,
            "grid_auto_rows": null,
            "grid_column": null,
            "grid_gap": null,
            "grid_row": null,
            "grid_template_areas": null,
            "grid_template_columns": null,
            "grid_template_rows": null,
            "height": null,
            "justify_content": null,
            "justify_items": null,
            "left": null,
            "margin": null,
            "max_height": null,
            "max_width": null,
            "min_height": null,
            "min_width": null,
            "object_fit": null,
            "object_position": null,
            "order": null,
            "overflow": null,
            "overflow_x": null,
            "overflow_y": null,
            "padding": null,
            "right": null,
            "top": null,
            "visibility": null,
            "width": null
          }
        },
        "bd49a4d0fbbf4e04bbc49306b664605b": {
          "model_module": "@jupyter-widgets/controls",
          "model_name": "DescriptionStyleModel",
          "model_module_version": "1.5.0",
          "state": {
            "_model_module": "@jupyter-widgets/controls",
            "_model_module_version": "1.5.0",
            "_model_name": "DescriptionStyleModel",
            "_view_count": null,
            "_view_module": "@jupyter-widgets/base",
            "_view_module_version": "1.2.0",
            "_view_name": "StyleView",
            "description_width": ""
          }
        }
      }
    }
  },
  "nbformat": 4,
  "nbformat_minor": 0
}